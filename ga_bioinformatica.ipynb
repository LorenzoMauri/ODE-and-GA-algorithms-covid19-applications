{
 "cells": [
  {
   "cell_type": "code",
   "execution_count": 41,
   "metadata": {},
   "outputs": [],
   "source": [
    "import numpy as np\n",
    "import pandas as pd\n",
    "#import matplotlib.pyplot as plt\n",
    "import random\n",
    "import itertools \n",
    "import re\n",
    "import pandas as pd\n",
    "from scipy.integrate import odeint\n",
    "import numpy as np\n",
    "import pylab as pl\n",
    "#import matplotlib.pyplot as plt\n",
    "import random\n",
    "from statistics import mean \n",
    "import itertools\n",
    "import ga \n",
    "import math\n",
    "path_file=\"https://raw.githubusercontent.com/pcm-dpc/COVID-19/master/dati-andamento-nazionale/dpc-covid19-ita-andamento-nazionale.csv\"\n",
    "dataset=pd.read_csv(path_file,parse_dates=['data'])\n",
    "# guariti,infetti,sani, morti \n",
    "dataset['asintomatici']= dataset['totale_casi'] * 0.44 \n",
    "dataset['immuni'] = dataset['dimessi_guariti'] * 0.95  #verificare proporzione\n",
    "data=dataset[['totale_positivi','dimessi_guariti','deceduti']]#,'immuni','asintomatici'\n",
    "data_first=pd.read_csv(path_file)['data'][0][:-9]\n",
    "data_last=pd.read_csv(path_file)['data'][data.shape[0]-1][:-9]\n",
    "#data['sani']=6036000-data['totale_positivi']"
   ]
  },
  {
   "cell_type": "code",
   "execution_count": 70,
   "metadata": {},
   "outputs": [],
   "source": [
    "def deriv(y,t,k1,k5,k6):  \n",
    "    '''set di equazioni differenziali'''\n",
    "   # k1=1.59606149975276e-09\n",
    "    Sani            =   y[0]\n",
    "    Infetti         =   y[1]\n",
    "   # Asintomatici    =   y[2]\n",
    "    Morti           =   y[2]\n",
    "    Guariti         =   y[3]\n",
    "    #Immuni          =   y[5]\n",
    "    dSanidt =  -k1*Sani*Infetti #-k2*Sani*Infetti-k3*Sani*Asintomatici- k4*Sani*Asintomatici + k9*Guariti\n",
    "    dInfettidt = k1*Sani*Infetti-k5*Infetti-k6*Infetti\n",
    "   # dAsintomaticidt =k2*Sani*Infetti+k4*Sani*Asintomatici-k7*Asintomatici\n",
    "    dMortidt=k5*Infetti\n",
    "    dGuaritidt =k6*Infetti#-k8*Guariti-k9*Guariti\n",
    "    #dImmunidt = k8*Guariti\n",
    "    return [dSanidt,dInfettidt,dMortidt,dGuaritidt]"
   ]
  },
  {
   "cell_type": "code",
   "execution_count": 3,
   "metadata": {},
   "outputs": [],
   "source": [
    "def diffusione(parameters,Sani =60359779, Infetti=221,Guariti=1, Morti= 7,Asintomatici=0,orizzonte_temporale_in_gg=data.shape[0]):#immuni\n",
    "        y0 =  (Sani,Infetti,Guariti,Morti)#,Immuni,Asintomatici\n",
    "        t = np.arange(0,orizzonte_temporale_in_gg)\n",
    "        ret = odeint(deriv, y0, t,args=tuple(parameters))\n",
    "        return(ret)\n"
   ]
  },
  {
   "cell_type": "code",
   "execution_count": 4,
   "metadata": {},
   "outputs": [],
   "source": [
    "def generateRandomPopulation(popsize, exp_min, exp_max):               #genero k iniziali \n",
    "    pop_init = np.random.uniform(low=exp_min, high=exp_max, size=popsize)\n",
    "    return(list(pop_init))"
   ]
  },
  {
   "cell_type": "code",
   "execution_count": 154,
   "metadata": {},
   "outputs": [],
   "source": [
    "def fitness(lista): #fitness da massimizare diamo piu peso ai valori relativi ad infetti nei primi 7 e ultimi 20 giorni\n",
    "    dfObj = pd.DataFrame(columns=['num', 'mean'])\n",
    "    for num2 in lista:\n",
    "        previsti=diffusione(num2)\n",
    "        df=pd.DataFrame(previsti,columns=['sani','totale_positivi','deceduti','dimessi_guariti'])#,'immuni','asintomatici'\n",
    "        df=df.drop(columns=['sani'])\n",
    "        dataframe=((df-data)**2)\n",
    "        lista=dataframe.values.tolist()\n",
    "        merged = list(itertools.chain.from_iterable(lista))\n",
    "        \n",
    "       # merged[5]=merged[5]*100000\n",
    "        for el in range(5,24,3):\n",
    "            merged[el]=merged[el]*100000\n",
    "        for el in range(125,len(merged),3):\n",
    "            merged[el]=merged[el]*100000\n",
    "        #for el in range(60,len(merged),3):\n",
    "         #   merged[el]=merged[el]*20000\n",
    "        #for el in range(61,len(merged),3):\n",
    "         #   merged[el]=merged[el]*30000\n",
    "        media=1/mean(merged)\n",
    "        dfObj = dfObj.append({'num': num2, 'mean': media}, ignore_index=True)\n",
    "        #datas=pd.DataFrame({'idx':list(range(1,len(pop)+1)), 'num':, 'fit':media })\n",
    "    return dfObj"
   ]
  },
  {
   "cell_type": "code",
   "execution_count": 6,
   "metadata": {},
   "outputs": [],
   "source": [
    "def rouletteSelection(DF):\n",
    "    return(np.random.choice(DF['num'], size=2, replace=False, p=DF['mean']/DF['mean'].sum()))"
   ]
  },
  {
   "cell_type": "code",
   "execution_count": 72,
   "metadata": {},
   "outputs": [],
   "source": [
    "def generateOffspring1(parents):\n",
    "    stop = random.randint(0,2)\n",
    "    new = list(parents[0][:stop+1])+ list(parents[1][stop+1:])\n",
    "    return(new,stop)\n",
    "\n",
    "def generateOffspring2(parents,stop):\n",
    "    stop = random.randint(0,1)\n",
    "    new = list(parents[1][:stop+1])+ list(parents[0][stop+1:])\n",
    "    return(new)\n",
    "def swapMutation(elemento,popsize):\n",
    "    r = random.randint(0,2)\n",
    "    r2=random.randint(0,2)\n",
    "    #while r==r2:\n",
    "     #   r2=random.randint(0,2)\n",
    "    elemento[r] = elemento[r]* np.random.uniform(0,1.2)\n",
    "    elemento[r2] = elemento[r2]*np.random.uniform(0,1.2)\n",
    "    if elemento[r] >1:\n",
    "        elemento[r] =elemento[r]-1\n",
    "    #if elemento[r] <0:\n",
    "     #   elemento[r]=elemento[r]+1\n",
    "    if elemento[r2] >1:\n",
    "        elemento[r2] =elemento[r2]-1\n",
    "    #if elemento[r2] <0:\n",
    "     #   elemento[r2]=elemento[r2]+1\n",
    "    return(elemento)"
   ]
  },
  {
   "cell_type": "code",
   "execution_count": 73,
   "metadata": {},
   "outputs": [],
   "source": [
    "def GA(popSize, crossProb, mutProb, numGenerazioni, exp_min, exp_max):\n",
    "    popsize=popSize\n",
    "    best={}\n",
    "    pop = generateRandomPopulation(popSize, exp_min, exp_max)\n",
    "    for generazione in range(numGenerazioni):\n",
    "        newPop = None\n",
    "        df = fitness(pop)\n",
    "        massimo=df['mean'].max()\n",
    "        best[generazione] = {'fit':massimo,'num1':df['num'].iloc[df['mean'].idxmax()]}\n",
    "       \n",
    "        df = df.sort_values('mean', ascending=False)\n",
    "       \n",
    "        newPop = list(df['num'][:2])\n",
    "        for i in range(1, int(popSize[0]/2)):\n",
    "            parents = rouletteSelection(df)\n",
    "            if (random.uniform(0,1)<=crossProb):\n",
    "                off1,stop = generateOffspring1(parents)\n",
    "                off2 = generateOffspring2(parents, stop)\n",
    "            else:\n",
    "                off1 = parents[0]\n",
    "                off2 = parents[1]\n",
    "            newPop.append(off1)\n",
    "            newPop.append(off2)\n",
    "        for i in range(len(newPop)):\n",
    "            if (random.uniform(0,1)<=mutProb):\n",
    "                newPop[i]=(swapMutation(newPop[i],popsize[0]))\n",
    "        pop=newPop\n",
    "    \n",
    "    return(best)"
   ]
  },
  {
   "cell_type": "code",
   "execution_count": null,
   "metadata": {},
   "outputs": [],
   "source": [
    "random.seed(123)\n",
    "#Algoritmo\n",
    "diz = GA(popSize=(50,3), crossProb=0.85, mutProb=0.2, numGenerazioni=14000, exp_min=0, exp_max=1)"
   ]
  },
  {
   "cell_type": "code",
   "execution_count": 146,
   "metadata": {},
   "outputs": [
    {
     "data": {
      "text/plain": [
       "[2.6427515503519586e-09, 3.6917147086167e-86, 0.0653959705648147]"
      ]
     },
     "execution_count": 146,
     "metadata": {},
     "output_type": "execute_result"
    }
   ],
   "source": [
    "diz[2999]['num1']"
   ]
  },
  {
   "cell_type": "markdown",
   "metadata": {},
   "source": [
    "i valori migliori trovati con 3000 iterazioni sono [3.5137284291108545e-08,0.999778598118124,09985819873817682]"
   ]
  },
  {
   "cell_type": "code",
   "execution_count": 15,
   "metadata": {},
   "outputs": [],
   "source": [
    "def grafico(stato):\n",
    "    d={'Sani':0,'Infetti':1,'Deceduti':2,'Guariti':3}#,'Immuni':5'Asintomatici':2,\n",
    "    col={'Sani':'b--','Infetti':'r','Asintomatici':'y','Deceduti':'k','Guariti':'g','Immuni':'grey'}\n",
    "    plt.plot(ret[:,d[stato]], col[stato], alpha=0.7 ,lw=2, label=stato)\n",
    "    plt.xlabel('Tempo (in giorni)')\n",
    "    plt.ylabel('Popolazione')\n",
    "    plt.axvline(data.shape[0],color='grey')\n",
    "    plt.text(0,ret[:,d[stato]].mean(),data_last)\n",
    "    plt.legend()\n",
    "    plt.show()"
   ]
  },
  {
   "cell_type": "code",
   "execution_count": 152,
   "metadata": {},
   "outputs": [
    {
     "data": {
      "image/png": "[encoded data removed]",
      "text/plain": [
       "<Figure size 432x288 with 1 Axes>"
      ]
     },
     "metadata": {
      "needs_background": "light"
     },
     "output_type": "display_data"
    }
   ],
   "source": [
    "grafico('Guariti')"
   ]
  },
  {
   "cell_type": "code",
   "execution_count": 150,
   "metadata": {},
   "outputs": [],
   "source": [
    "ret=diffusione(diz[2999]['num1'],orizzonte_temporale_in_gg=180)"
   ]
  },
  {
   "cell_type": "code",
   "execution_count": 21,
   "metadata": {},
   "outputs": [
    {
     "data": {
      "text/plain": [
       "array([[120.        , 221.        ,   1.        ,   7.        ],\n",
       "       [119.99995767, 221.00004233,   1.        ,   7.        ],\n",
       "       [119.99991534, 221.00008466,   1.        ,   7.        ],\n",
       "       [119.99987302, 221.00012698,   1.        ,   7.        ],\n",
       "       [119.99983069, 221.00016931,   1.        ,   7.        ],\n",
       "       [119.99978836, 221.00021164,   1.        ,   7.        ],\n",
       "       [119.99974603, 221.00025397,   1.        ,   7.        ],\n",
       "       [119.99970371, 221.00029629,   1.        ,   7.        ],\n",
       "       [119.99966138, 221.00033862,   1.        ,   7.        ],\n",
       "       [119.99961905, 221.00038095,   1.        ,   7.        ],\n",
       "       [119.99957672, 221.00042328,   1.        ,   7.        ],\n",
       "       [119.9995344 , 221.0004656 ,   1.        ,   7.        ],\n",
       "       [119.99949207, 221.00050793,   1.        ,   7.        ],\n",
       "       [119.99944974, 221.00055026,   1.        ,   7.        ],\n",
       "       [119.99940741, 221.00059259,   1.        ,   7.        ],\n",
       "       [119.99936509, 221.00063491,   1.        ,   7.        ],\n",
       "       [119.99932276, 221.00067724,   1.        ,   7.        ],\n",
       "       [119.99928043, 221.00071957,   1.        ,   7.        ],\n",
       "       [119.99923811, 221.00076189,   1.        ,   7.        ],\n",
       "       [119.99919578, 221.00080422,   1.        ,   7.        ],\n",
       "       [119.99915345, 221.00084655,   1.        ,   7.        ],\n",
       "       [119.99911112, 221.00088888,   1.        ,   7.        ],\n",
       "       [119.9990688 , 221.0009312 ,   1.        ,   7.        ],\n",
       "       [119.99902647, 221.00097353,   1.        ,   7.        ],\n",
       "       [119.99898414, 221.00101586,   1.        ,   7.        ],\n",
       "       [119.99894181, 221.00105819,   1.        ,   7.        ],\n",
       "       [119.99889949, 221.00110051,   1.        ,   7.        ],\n",
       "       [119.99885716, 221.00114284,   1.        ,   7.        ],\n",
       "       [119.99881483, 221.00118517,   1.        ,   7.        ],\n",
       "       [119.9987725 , 221.0012275 ,   1.        ,   7.        ],\n",
       "       [119.99873018, 221.00126982,   1.        ,   7.        ],\n",
       "       [119.99868785, 221.00131215,   1.        ,   7.        ],\n",
       "       [119.99864552, 221.00135448,   1.        ,   7.        ],\n",
       "       [119.99860319, 221.00139681,   1.        ,   7.        ],\n",
       "       [119.99856087, 221.00143913,   1.        ,   7.        ],\n",
       "       [119.99851854, 221.00148146,   1.        ,   7.        ],\n",
       "       [119.99847621, 221.00152379,   1.        ,   7.        ],\n",
       "       [119.99843389, 221.00156611,   1.        ,   7.        ],\n",
       "       [119.99839156, 221.00160844,   1.        ,   7.        ],\n",
       "       [119.99834923, 221.00165077,   1.        ,   7.        ],\n",
       "       [119.9983069 , 221.0016931 ,   1.        ,   7.        ],\n",
       "       [119.99826458, 221.00173542,   1.        ,   7.        ],\n",
       "       [119.99822225, 221.00177775,   1.        ,   7.        ],\n",
       "       [119.99817992, 221.00182008,   1.        ,   7.        ],\n",
       "       [119.99813759, 221.00186241,   1.        ,   7.        ],\n",
       "       [119.99809527, 221.00190473,   1.        ,   7.        ],\n",
       "       [119.99805294, 221.00194706,   1.        ,   7.        ],\n",
       "       [119.99801061, 221.00198939,   1.        ,   7.        ],\n",
       "       [119.99796829, 221.00203171,   1.        ,   7.        ],\n",
       "       [119.99792596, 221.00207404,   1.        ,   7.        ],\n",
       "       [119.99788363, 221.00211637,   1.        ,   7.        ],\n",
       "       [119.9978413 , 221.0021587 ,   1.        ,   7.        ],\n",
       "       [119.99779898, 221.00220102,   1.        ,   7.        ],\n",
       "       [119.99775665, 221.00224335,   1.        ,   7.        ],\n",
       "       [119.99771432, 221.00228568,   1.        ,   7.        ],\n",
       "       [119.997672  , 221.002328  ,   1.        ,   7.        ],\n",
       "       [119.99762967, 221.00237033,   1.        ,   7.        ],\n",
       "       [119.99758734, 221.00241266,   1.        ,   7.        ],\n",
       "       [119.99754501, 221.00245499,   1.        ,   7.        ],\n",
       "       [119.99750269, 221.00249731,   1.        ,   7.        ],\n",
       "       [119.99746036, 221.00253964,   1.        ,   7.        ],\n",
       "       [119.99741803, 221.00258197,   1.        ,   7.        ],\n",
       "       [119.9973757 , 221.0026243 ,   1.        ,   7.        ],\n",
       "       [119.99733338, 221.00266662,   1.        ,   7.        ],\n",
       "       [119.99729105, 221.00270895,   1.        ,   7.        ],\n",
       "       [119.99724872, 221.00275128,   1.        ,   7.        ],\n",
       "       [119.9972064 , 221.0027936 ,   1.        ,   7.        ],\n",
       "       [119.99716407, 221.00283593,   1.        ,   7.        ],\n",
       "       [119.99712174, 221.00287826,   1.        ,   7.        ],\n",
       "       [119.99707942, 221.00292058,   1.        ,   7.        ],\n",
       "       [119.99703709, 221.00296291,   1.        ,   7.        ],\n",
       "       [119.99699476, 221.00300524,   1.        ,   7.        ]])"
      ]
     },
     "execution_count": 21,
     "metadata": {},
     "output_type": "execute_result"
    }
   ],
   "source": [
    "ret"
   ]
  },
  {
   "cell_type": "code",
   "execution_count": null,
   "metadata": {},
   "outputs": [],
   "source": []
  }
 ],
 "metadata": {
  "kernelspec": {
   "display_name": "Python 3",
   "language": "python",
   "name": "python3"
  },
  "language_info": {
   "codemirror_mode": {
    "name": "ipython",
    "version": 3
   },
   "file_extension": ".py",
   "mimetype": "text/x-python",
   "name": "python",
   "nbconvert_exporter": "python",
   "pygments_lexer": "ipython3",
   "version": "3.7.4"
  }
 },
 "nbformat": 4,
 "nbformat_minor": 4
}
