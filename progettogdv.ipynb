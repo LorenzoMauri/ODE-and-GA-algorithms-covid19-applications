{
 "cells": [
  {
   "cell_type": "code",
   "execution_count": 1,
   "metadata": {},
   "outputs": [],
   "source": [
    "import pandas as pd \n",
    "import itertools \n",
    "import collections as cl"
   ]
  },
  {
   "cell_type": "code",
   "execution_count": 2,
   "metadata": {},
   "outputs": [],
   "source": [
    "import re"
   ]
  },
  {
   "cell_type": "code",
   "execution_count": 201,
   "metadata": {},
   "outputs": [
    {
     "data": {
      "text/html": [
       "<div>\n",
       "<style scoped>\n",
       "    .dataframe tbody tr th:only-of-type {\n",
       "        vertical-align: middle;\n",
       "    }\n",
       "\n",
       "    .dataframe tbody tr th {\n",
       "        vertical-align: top;\n",
       "    }\n",
       "\n",
       "    .dataframe thead th {\n",
       "        text-align: right;\n",
       "    }\n",
       "</style>\n",
       "<table border=\"1\" class=\"dataframe\">\n",
       "  <thead>\n",
       "    <tr style=\"text-align: right;\">\n",
       "      <th></th>\n",
       "      <th>chromosome</th>\n",
       "      <th>gene</th>\n",
       "      <th>start</th>\n",
       "      <th>end</th>\n",
       "      <th>score</th>\n",
       "      <th>strand</th>\n",
       "      <th>frame</th>\n",
       "      <th>attributes</th>\n",
       "    </tr>\n",
       "  </thead>\n",
       "  <tbody>\n",
       "    <tr>\n",
       "      <td>X</td>\n",
       "      <td>Ensembl</td>\n",
       "      <td>gene</td>\n",
       "      <td>15464246</td>\n",
       "      <td>15556529</td>\n",
       "      <td>.</td>\n",
       "      <td>+</td>\n",
       "      <td>.</td>\n",
       "      <td>ID=ENSG00000102010.15;Name=ENSG00000102010.15;...</td>\n",
       "    </tr>\n",
       "    <tr>\n",
       "      <td>X</td>\n",
       "      <td>Ensembl</td>\n",
       "      <td>gene</td>\n",
       "      <td>15561033</td>\n",
       "      <td>15602148</td>\n",
       "      <td>.</td>\n",
       "      <td>-</td>\n",
       "      <td>.</td>\n",
       "      <td>ID=ENSG00000130234.11;Name=ENSG00000130234.11;...</td>\n",
       "    </tr>\n",
       "    <tr>\n",
       "      <td>X</td>\n",
       "      <td>Ensembl</td>\n",
       "      <td>gene</td>\n",
       "      <td>15561047</td>\n",
       "      <td>15675608</td>\n",
       "      <td>.</td>\n",
       "      <td>-</td>\n",
       "      <td>.</td>\n",
       "      <td>ID=ENSG00000285602.1;Name=ENSG00000285602.1;bi...</td>\n",
       "    </tr>\n",
       "    <tr>\n",
       "      <td>X</td>\n",
       "      <td>Ensembl</td>\n",
       "      <td>gene</td>\n",
       "      <td>15602881</td>\n",
       "      <td>15621484</td>\n",
       "      <td>.</td>\n",
       "      <td>+</td>\n",
       "      <td>.</td>\n",
       "      <td>ID=ENSG00000225833.1;Name=ENSG00000225833.1;bi...</td>\n",
       "    </tr>\n",
       "    <tr>\n",
       "      <td>X</td>\n",
       "      <td>Ensembl</td>\n",
       "      <td>gene</td>\n",
       "      <td>15627318</td>\n",
       "      <td>15675012</td>\n",
       "      <td>.</td>\n",
       "      <td>-</td>\n",
       "      <td>.</td>\n",
       "      <td>ID=ENSG00000147003.7;Name=ENSG00000147003.7;bi...</td>\n",
       "    </tr>\n",
       "    <tr>\n",
       "      <td>X</td>\n",
       "      <td>Ensembl</td>\n",
       "      <td>gene</td>\n",
       "      <td>15494520</td>\n",
       "      <td>15602158</td>\n",
       "      <td>.</td>\n",
       "      <td>-</td>\n",
       "      <td>.</td>\n",
       "      <td>ID=gene-ACE2.1;Name=gene-ACE2.1;biotype=protei...</td>\n",
       "    </tr>\n",
       "    <tr>\n",
       "      <td>X</td>\n",
       "      <td>Ensembl</td>\n",
       "      <td>gene</td>\n",
       "      <td>15500777</td>\n",
       "      <td>15556519</td>\n",
       "      <td>.</td>\n",
       "      <td>+</td>\n",
       "      <td>.</td>\n",
       "      <td>ID=gene-BMX.1;Name=gene-BMX.1;biotype=protein_...</td>\n",
       "    </tr>\n",
       "    <tr>\n",
       "      <td>X</td>\n",
       "      <td>Ensembl</td>\n",
       "      <td>gene</td>\n",
       "      <td>15508354</td>\n",
       "      <td>15556147</td>\n",
       "      <td>.</td>\n",
       "      <td>+</td>\n",
       "      <td>.</td>\n",
       "      <td>ID=CCDS14168.1.1;Name=CCDS14168.1.1;biotype=cc...</td>\n",
       "    </tr>\n",
       "    <tr>\n",
       "      <td>X</td>\n",
       "      <td>Ensembl</td>\n",
       "      <td>gene</td>\n",
       "      <td>15518189</td>\n",
       "      <td>15600960</td>\n",
       "      <td>.</td>\n",
       "      <td>-</td>\n",
       "      <td>.</td>\n",
       "      <td>ID=compmerge.5016.pooled.chrX.1;Name=compmerge...</td>\n",
       "    </tr>\n",
       "    <tr>\n",
       "      <td>X</td>\n",
       "      <td>Ensembl</td>\n",
       "      <td>gene</td>\n",
       "      <td>15518189</td>\n",
       "      <td>15600960</td>\n",
       "      <td>.</td>\n",
       "      <td>-</td>\n",
       "      <td>.</td>\n",
       "      <td>ID=compmerge.1119.Heart.chrX.1;Name=compmerge....</td>\n",
       "    </tr>\n",
       "  </tbody>\n",
       "</table>\n",
       "</div>"
      ],
      "text/plain": [
       "  chromosome  gene     start       end score strand frame  \\\n",
       "X    Ensembl  gene  15464246  15556529     .      +     .   \n",
       "X    Ensembl  gene  15561033  15602148     .      -     .   \n",
       "X    Ensembl  gene  15561047  15675608     .      -     .   \n",
       "X    Ensembl  gene  15602881  15621484     .      +     .   \n",
       "X    Ensembl  gene  15627318  15675012     .      -     .   \n",
       "X    Ensembl  gene  15494520  15602158     .      -     .   \n",
       "X    Ensembl  gene  15500777  15556519     .      +     .   \n",
       "X    Ensembl  gene  15508354  15556147     .      +     .   \n",
       "X    Ensembl  gene  15518189  15600960     .      -     .   \n",
       "X    Ensembl  gene  15518189  15600960     .      -     .   \n",
       "\n",
       "                                          attributes  \n",
       "X  ID=ENSG00000102010.15;Name=ENSG00000102010.15;...  \n",
       "X  ID=ENSG00000130234.11;Name=ENSG00000130234.11;...  \n",
       "X  ID=ENSG00000285602.1;Name=ENSG00000285602.1;bi...  \n",
       "X  ID=ENSG00000225833.1;Name=ENSG00000225833.1;bi...  \n",
       "X  ID=ENSG00000147003.7;Name=ENSG00000147003.7;bi...  \n",
       "X  ID=gene-ACE2.1;Name=gene-ACE2.1;biotype=protei...  \n",
       "X  ID=gene-BMX.1;Name=gene-BMX.1;biotype=protein_...  \n",
       "X  ID=CCDS14168.1.1;Name=CCDS14168.1.1;biotype=cc...  \n",
       "X  ID=compmerge.5016.pooled.chrX.1;Name=compmerge...  \n",
       "X  ID=compmerge.1119.Heart.chrX.1;Name=compmerge....  "
      ]
     },
     "execution_count": 201,
     "metadata": {},
     "output_type": "execute_result"
    }
   ],
   "source": [
    "\n",
    "\n",
    "f_path=\"https://raw.githubusercontent.com/LorenzoMauri/Progetto-Bioinformatica/master/data/ace2.gtf\"\n",
    "data = pd.read_csv(f_path,sep='\\t',skiprows=2,names=['chromosome','gene','start','end','score','strand','frame','attributes'])\n",
    "data.head(10)"
   ]
  },
  {
   "cell_type": "code",
   "execution_count": 288,
   "metadata": {},
   "outputs": [
    {
     "data": {
      "text/plain": [
       "'Name=exon-XM_017029752.2-6;Parent=rna-NM_001320866.2.1'"
      ]
     },
     "execution_count": 288,
     "metadata": {},
     "output_type": "execute_result"
    }
   ],
   "source": [
    "riga=data.iloc[1221,7]\n",
    "riga"
   ]
  },
  {
   "cell_type": "code",
   "execution_count": 276,
   "metadata": {},
   "outputs": [
    {
     "name": "stdout",
     "output_type": "stream",
     "text": [
      "['rna-XM_011545551.3.1']\n"
     ]
    }
   ],
   "source": [
    "if re.findall('Parent=(.*);',riga) !=[]:\n",
    "    print(re.findall('Parent=(.*);',riga))\n",
    "elif re.findall('Parent=(.*)',riga) !=[]:\n",
    "    print(re.findall('Parent=(.*)',riga))"
   ]
  },
  {
   "cell_type": "code",
   "execution_count": 275,
   "metadata": {},
   "outputs": [
    {
     "data": {
      "text/plain": [
       "True"
      ]
     },
     "execution_count": 275,
     "metadata": {},
     "output_type": "execute_result"
    }
   ],
   "source": [
    "re.findall('Parent=(.*);',riga) ==[]"
   ]
  },
  {
   "cell_type": "code",
   "execution_count": 244,
   "metadata": {},
   "outputs": [
    {
     "name": "stdout",
     "output_type": "stream",
     "text": [
      "['protein_coding']\n"
     ]
    }
   ],
   "source": [
    "print(re.findall('biotype=(.*)',riga))"
   ]
  },
  {
   "cell_type": "code",
   "execution_count": 291,
   "metadata": {},
   "outputs": [],
   "source": [
    "def ID (stringa):\n",
    "    if re.findall('ID=(.*);',stringa) != None:\n",
    "        return \"\".join( re.findall('ID=(.*?);',stringa))\n",
    "    elif re.findall('ID=(.*)',riga) != None:\n",
    "        return \"\".join( re.findall('ID=(.*?)',stringa))\n",
    "    else:\n",
    "        return None"
   ]
  },
  {
   "cell_type": "code",
   "execution_count": 215,
   "metadata": {},
   "outputs": [],
   "source": [
    "def nome (stringa):\n",
    "    if re.findall('Name=(.*);',stringa) != None:\n",
    "        return \"\".join( re.findall('Name=(.*?);',stringa))\n",
    "    elif re.findall('Name=(.*)',riga) != None:\n",
    "        return \"\".join( re.findall('Name=(.*?)',stringa))\n",
    "    else:\n",
    "        return None"
   ]
  },
  {
   "cell_type": "code",
   "execution_count": 260,
   "metadata": {},
   "outputs": [],
   "source": [
    "def biotype (stringa):\n",
    "    if re.findall('biotype=(.*);',stringa) !=[]:\n",
    "        return (\"\".join( re.findall('biotype=(.*);',stringa)))\n",
    "    elif re.findall('biotype=(.*)',riga) != []:\n",
    "        return (\"\".join(  re.findall('biotype=(.*)',stringa)))\n",
    "    else:\n",
    "        return None"
   ]
  },
  {
   "cell_type": "code",
   "execution_count": 280,
   "metadata": {},
   "outputs": [],
   "source": [
    "def parent (stringa):\n",
    "    if re.findall('Parent=(.*);',stringa) !=[]:\n",
    "        return(\"\".join(re.findall('Parent=(.*);',stringa)))\n",
    "    elif re.findall('Parent=(.*)',stringa) !=[]:\n",
    "        return(\"\".join(re.findall('Parent=(.*)',stringa)))\n",
    "    else:\n",
    "        return None"
   ]
  },
  {
   "cell_type": "code",
   "execution_count": 292,
   "metadata": {},
   "outputs": [],
   "source": [
    "data['ID']=data['attributes'].apply(ID)"
   ]
  },
  {
   "cell_type": "code",
   "execution_count": 216,
   "metadata": {},
   "outputs": [],
   "source": [
    "data['nome']=data['attributes'].apply(nome)"
   ]
  },
  {
   "cell_type": "code",
   "execution_count": 261,
   "metadata": {},
   "outputs": [],
   "source": [
    "data['biotype']=data['attributes'].apply(biotype)"
   ]
  },
  {
   "cell_type": "code",
   "execution_count": 281,
   "metadata": {},
   "outputs": [],
   "source": [
    "data['parent']=data['attributes'].apply(parent)"
   ]
  },
  {
   "cell_type": "code",
   "execution_count": 293,
   "metadata": {},
   "outputs": [
    {
     "data": {
      "text/html": [
       "<div>\n",
       "<style scoped>\n",
       "    .dataframe tbody tr th:only-of-type {\n",
       "        vertical-align: middle;\n",
       "    }\n",
       "\n",
       "    .dataframe tbody tr th {\n",
       "        vertical-align: top;\n",
       "    }\n",
       "\n",
       "    .dataframe thead th {\n",
       "        text-align: right;\n",
       "    }\n",
       "</style>\n",
       "<table border=\"1\" class=\"dataframe\">\n",
       "  <thead>\n",
       "    <tr style=\"text-align: right;\">\n",
       "      <th></th>\n",
       "      <th>chromosome</th>\n",
       "      <th>gene</th>\n",
       "      <th>start</th>\n",
       "      <th>end</th>\n",
       "      <th>score</th>\n",
       "      <th>strand</th>\n",
       "      <th>frame</th>\n",
       "      <th>attributes</th>\n",
       "      <th>ID</th>\n",
       "      <th>nome</th>\n",
       "      <th>biotype</th>\n",
       "      <th>parent</th>\n",
       "    </tr>\n",
       "  </thead>\n",
       "  <tbody>\n",
       "    <tr>\n",
       "      <td>X</td>\n",
       "      <td>Ensembl</td>\n",
       "      <td>gene</td>\n",
       "      <td>15464246</td>\n",
       "      <td>15556529</td>\n",
       "      <td>.</td>\n",
       "      <td>+</td>\n",
       "      <td>.</td>\n",
       "      <td>ID=ENSG00000102010.15;Name=ENSG00000102010.15;...</td>\n",
       "      <td>ENSG00000102010.15</td>\n",
       "      <td>ENSG00000102010.15</td>\n",
       "      <td>protein_coding</td>\n",
       "      <td>None</td>\n",
       "    </tr>\n",
       "    <tr>\n",
       "      <td>X</td>\n",
       "      <td>Ensembl</td>\n",
       "      <td>gene</td>\n",
       "      <td>15561033</td>\n",
       "      <td>15602148</td>\n",
       "      <td>.</td>\n",
       "      <td>-</td>\n",
       "      <td>.</td>\n",
       "      <td>ID=ENSG00000130234.11;Name=ENSG00000130234.11;...</td>\n",
       "      <td>ENSG00000130234.11</td>\n",
       "      <td>ENSG00000130234.11</td>\n",
       "      <td>protein_coding</td>\n",
       "      <td>None</td>\n",
       "    </tr>\n",
       "    <tr>\n",
       "      <td>X</td>\n",
       "      <td>Ensembl</td>\n",
       "      <td>gene</td>\n",
       "      <td>15561047</td>\n",
       "      <td>15675608</td>\n",
       "      <td>.</td>\n",
       "      <td>-</td>\n",
       "      <td>.</td>\n",
       "      <td>ID=ENSG00000285602.1;Name=ENSG00000285602.1;bi...</td>\n",
       "      <td>ENSG00000285602.1</td>\n",
       "      <td>ENSG00000285602.1</td>\n",
       "      <td>protein_coding</td>\n",
       "      <td>None</td>\n",
       "    </tr>\n",
       "    <tr>\n",
       "      <td>X</td>\n",
       "      <td>Ensembl</td>\n",
       "      <td>gene</td>\n",
       "      <td>15602881</td>\n",
       "      <td>15621484</td>\n",
       "      <td>.</td>\n",
       "      <td>+</td>\n",
       "      <td>.</td>\n",
       "      <td>ID=ENSG00000225833.1;Name=ENSG00000225833.1;bi...</td>\n",
       "      <td>ENSG00000225833.1</td>\n",
       "      <td>ENSG00000225833.1</td>\n",
       "      <td>lncRNA</td>\n",
       "      <td>None</td>\n",
       "    </tr>\n",
       "    <tr>\n",
       "      <td>X</td>\n",
       "      <td>Ensembl</td>\n",
       "      <td>gene</td>\n",
       "      <td>15627318</td>\n",
       "      <td>15675012</td>\n",
       "      <td>.</td>\n",
       "      <td>-</td>\n",
       "      <td>.</td>\n",
       "      <td>ID=ENSG00000147003.7;Name=ENSG00000147003.7;bi...</td>\n",
       "      <td>ENSG00000147003.7</td>\n",
       "      <td>ENSG00000147003.7</td>\n",
       "      <td>protein_coding</td>\n",
       "      <td>None</td>\n",
       "    </tr>\n",
       "    <tr>\n",
       "      <td>...</td>\n",
       "      <td>...</td>\n",
       "      <td>...</td>\n",
       "      <td>...</td>\n",
       "      <td>...</td>\n",
       "      <td>...</td>\n",
       "      <td>...</td>\n",
       "      <td>...</td>\n",
       "      <td>...</td>\n",
       "      <td>...</td>\n",
       "      <td>...</td>\n",
       "      <td>...</td>\n",
       "      <td>...</td>\n",
       "    </tr>\n",
       "    <tr>\n",
       "      <td>X</td>\n",
       "      <td>Ensembl</td>\n",
       "      <td>exon</td>\n",
       "      <td>15664718</td>\n",
       "      <td>15664805</td>\n",
       "      <td>.</td>\n",
       "      <td>-</td>\n",
       "      <td>.</td>\n",
       "      <td>Name=ENSESTE00000059618;Parent=ENSESTT00000015...</td>\n",
       "      <td></td>\n",
       "      <td>ENSESTE00000059618</td>\n",
       "      <td></td>\n",
       "      <td>ENSESTT00000015656.1</td>\n",
       "    </tr>\n",
       "    <tr>\n",
       "      <td>X</td>\n",
       "      <td>Ensembl</td>\n",
       "      <td>exon</td>\n",
       "      <td>15664337</td>\n",
       "      <td>15664395</td>\n",
       "      <td>.</td>\n",
       "      <td>-</td>\n",
       "      <td>.</td>\n",
       "      <td>Name=ENSESTE00000059619;Parent=ENSESTT00000015...</td>\n",
       "      <td></td>\n",
       "      <td>ENSESTE00000059619</td>\n",
       "      <td></td>\n",
       "      <td>ENSESTT00000015656.1</td>\n",
       "    </tr>\n",
       "    <tr>\n",
       "      <td>X</td>\n",
       "      <td>Ensembl</td>\n",
       "      <td>exon</td>\n",
       "      <td>15659016</td>\n",
       "      <td>15659101</td>\n",
       "      <td>.</td>\n",
       "      <td>-</td>\n",
       "      <td>.</td>\n",
       "      <td>Name=ENSESTE00000059621;Parent=ENSESTT00000015...</td>\n",
       "      <td></td>\n",
       "      <td>ENSESTE00000059621</td>\n",
       "      <td></td>\n",
       "      <td>ENSESTT00000015656.1</td>\n",
       "    </tr>\n",
       "    <tr>\n",
       "      <td>X</td>\n",
       "      <td>Ensembl</td>\n",
       "      <td>exon</td>\n",
       "      <td>15644916</td>\n",
       "      <td>15645029</td>\n",
       "      <td>.</td>\n",
       "      <td>-</td>\n",
       "      <td>.</td>\n",
       "      <td>Name=ENSESTE00000059609;Parent=ENSESTT00000015...</td>\n",
       "      <td></td>\n",
       "      <td>ENSESTE00000059609</td>\n",
       "      <td></td>\n",
       "      <td>ENSESTT00000015656.1</td>\n",
       "    </tr>\n",
       "    <tr>\n",
       "      <td>X</td>\n",
       "      <td>Ensembl</td>\n",
       "      <td>exon</td>\n",
       "      <td>15639575</td>\n",
       "      <td>15639756</td>\n",
       "      <td>.</td>\n",
       "      <td>-</td>\n",
       "      <td>.</td>\n",
       "      <td>Name=ENSESTE00000059614;Parent=ENSESTT00000015...</td>\n",
       "      <td></td>\n",
       "      <td>ENSESTE00000059614</td>\n",
       "      <td></td>\n",
       "      <td>ENSESTT00000015656.1</td>\n",
       "    </tr>\n",
       "  </tbody>\n",
       "</table>\n",
       "<p>1524 rows × 12 columns</p>\n",
       "</div>"
      ],
      "text/plain": [
       "   chromosome  gene     start       end score strand frame  \\\n",
       "X     Ensembl  gene  15464246  15556529     .      +     .   \n",
       "X     Ensembl  gene  15561033  15602148     .      -     .   \n",
       "X     Ensembl  gene  15561047  15675608     .      -     .   \n",
       "X     Ensembl  gene  15602881  15621484     .      +     .   \n",
       "X     Ensembl  gene  15627318  15675012     .      -     .   \n",
       "..        ...   ...       ...       ...   ...    ...   ...   \n",
       "X     Ensembl  exon  15664718  15664805     .      -     .   \n",
       "X     Ensembl  exon  15664337  15664395     .      -     .   \n",
       "X     Ensembl  exon  15659016  15659101     .      -     .   \n",
       "X     Ensembl  exon  15644916  15645029     .      -     .   \n",
       "X     Ensembl  exon  15639575  15639756     .      -     .   \n",
       "\n",
       "                                           attributes                  ID  \\\n",
       "X   ID=ENSG00000102010.15;Name=ENSG00000102010.15;...  ENSG00000102010.15   \n",
       "X   ID=ENSG00000130234.11;Name=ENSG00000130234.11;...  ENSG00000130234.11   \n",
       "X   ID=ENSG00000285602.1;Name=ENSG00000285602.1;bi...   ENSG00000285602.1   \n",
       "X   ID=ENSG00000225833.1;Name=ENSG00000225833.1;bi...   ENSG00000225833.1   \n",
       "X   ID=ENSG00000147003.7;Name=ENSG00000147003.7;bi...   ENSG00000147003.7   \n",
       "..                                                ...                 ...   \n",
       "X   Name=ENSESTE00000059618;Parent=ENSESTT00000015...                       \n",
       "X   Name=ENSESTE00000059619;Parent=ENSESTT00000015...                       \n",
       "X   Name=ENSESTE00000059621;Parent=ENSESTT00000015...                       \n",
       "X   Name=ENSESTE00000059609;Parent=ENSESTT00000015...                       \n",
       "X   Name=ENSESTE00000059614;Parent=ENSESTT00000015...                       \n",
       "\n",
       "                  nome         biotype                parent  \n",
       "X   ENSG00000102010.15  protein_coding                  None  \n",
       "X   ENSG00000130234.11  protein_coding                  None  \n",
       "X    ENSG00000285602.1  protein_coding                  None  \n",
       "X    ENSG00000225833.1          lncRNA                  None  \n",
       "X    ENSG00000147003.7  protein_coding                  None  \n",
       "..                 ...             ...                   ...  \n",
       "X   ENSESTE00000059618                  ENSESTT00000015656.1  \n",
       "X   ENSESTE00000059619                  ENSESTT00000015656.1  \n",
       "X   ENSESTE00000059621                  ENSESTT00000015656.1  \n",
       "X   ENSESTE00000059609                  ENSESTT00000015656.1  \n",
       "X   ENSESTE00000059614                  ENSESTT00000015656.1  \n",
       "\n",
       "[1524 rows x 12 columns]"
      ]
     },
     "execution_count": 293,
     "metadata": {},
     "output_type": "execute_result"
    }
   ],
   "source": [
    "data"
   ]
  },
  {
   "cell_type": "code",
   "execution_count": 313,
   "metadata": {
    "scrolled": true
   },
   "outputs": [
    {
     "data": {
      "text/html": [
       "<div>\n",
       "<style scoped>\n",
       "    .dataframe tbody tr th:only-of-type {\n",
       "        vertical-align: middle;\n",
       "    }\n",
       "\n",
       "    .dataframe tbody tr th {\n",
       "        vertical-align: top;\n",
       "    }\n",
       "\n",
       "    .dataframe thead th {\n",
       "        text-align: right;\n",
       "    }\n",
       "</style>\n",
       "<table border=\"1\" class=\"dataframe\">\n",
       "  <thead>\n",
       "    <tr style=\"text-align: right;\">\n",
       "      <th></th>\n",
       "      <th>chromosome</th>\n",
       "      <th>gene</th>\n",
       "      <th>start</th>\n",
       "      <th>end</th>\n",
       "      <th>score</th>\n",
       "      <th>frame</th>\n",
       "      <th>attributes</th>\n",
       "      <th>ID</th>\n",
       "      <th>nome</th>\n",
       "      <th>biotype</th>\n",
       "      <th>parent</th>\n",
       "    </tr>\n",
       "    <tr>\n",
       "      <th>strand</th>\n",
       "      <th></th>\n",
       "      <th></th>\n",
       "      <th></th>\n",
       "      <th></th>\n",
       "      <th></th>\n",
       "      <th></th>\n",
       "      <th></th>\n",
       "      <th></th>\n",
       "      <th></th>\n",
       "      <th></th>\n",
       "      <th></th>\n",
       "    </tr>\n",
       "  </thead>\n",
       "  <tbody>\n",
       "    <tr>\n",
       "      <td>+</td>\n",
       "      <td>482</td>\n",
       "      <td>482</td>\n",
       "      <td>482</td>\n",
       "      <td>482</td>\n",
       "      <td>482</td>\n",
       "      <td>482</td>\n",
       "      <td>482</td>\n",
       "      <td>482</td>\n",
       "      <td>482</td>\n",
       "      <td>482</td>\n",
       "      <td>475</td>\n",
       "    </tr>\n",
       "    <tr>\n",
       "      <td>-</td>\n",
       "      <td>1042</td>\n",
       "      <td>1042</td>\n",
       "      <td>1042</td>\n",
       "      <td>1042</td>\n",
       "      <td>1042</td>\n",
       "      <td>1042</td>\n",
       "      <td>1042</td>\n",
       "      <td>1042</td>\n",
       "      <td>1042</td>\n",
       "      <td>1042</td>\n",
       "      <td>1024</td>\n",
       "    </tr>\n",
       "  </tbody>\n",
       "</table>\n",
       "</div>"
      ],
      "text/plain": [
       "        chromosome  gene  start   end  score  frame  attributes    ID  nome  \\\n",
       "strand                                                                        \n",
       "+              482   482    482   482    482    482         482   482   482   \n",
       "-             1042  1042   1042  1042   1042   1042        1042  1042  1042   \n",
       "\n",
       "        biotype  parent  \n",
       "strand                   \n",
       "+           482     475  \n",
       "-          1042    1024  "
      ]
     },
     "execution_count": 313,
     "metadata": {},
     "output_type": "execute_result"
    }
   ],
   "source": [
    "data.groupby(['strand']).count()"
   ]
  },
  {
   "cell_type": "code",
   "execution_count": 299,
   "metadata": {},
   "outputs": [],
   "source": [
    "prova=data[data['biotype']=='']"
   ]
  },
  {
   "cell_type": "code",
   "execution_count": 302,
   "metadata": {},
   "outputs": [
    {
     "data": {
      "text/plain": [
       "'Name=exon-XM_011545551.3-10;Parent=rna-NM_001371415.1.1'"
      ]
     },
     "execution_count": 302,
     "metadata": {},
     "output_type": "execute_result"
    }
   ],
   "source": [
    "prova.iloc[1100,7]"
   ]
  },
  {
   "cell_type": "code",
   "execution_count": 310,
   "metadata": {},
   "outputs": [
    {
     "data": {
      "text/plain": [
       "biotype                  gene      \n",
       "                         CDS           335\n",
       "                         exon          582\n",
       "                         intron        535\n",
       "aligned_transcript       gene           10\n",
       "                         transcript     10\n",
       "ccds_gene                gene            3\n",
       "lncRNA                   gene            2\n",
       "                         transcript      2\n",
       "nonsense_mediated_decay  transcript      1\n",
       "processed_transcript     transcript      5\n",
       "protein_coding           gene            9\n",
       "                         transcript     28\n",
       "pseudogene               gene            1\n",
       "                         transcript      1\n",
       "dtype: int64"
      ]
     },
     "execution_count": 310,
     "metadata": {},
     "output_type": "execute_result"
    }
   ],
   "source": [
    "data.groupby(['biotype','gene']).size()"
   ]
  },
  {
   "cell_type": "code",
   "execution_count": null,
   "metadata": {},
   "outputs": [],
   "source": []
  }
 ],
 "metadata": {
  "kernelspec": {
   "display_name": "Python 3",
   "language": "python",
   "name": "python3"
  },
  "language_info": {
   "codemirror_mode": {
    "name": "ipython",
    "version": 3
   },
   "file_extension": ".py",
   "mimetype": "text/x-python",
   "name": "python",
   "nbconvert_exporter": "python",
   "pygments_lexer": "ipython3",
   "version": "3.7.4"
  }
 },
 "nbformat": 4,
 "nbformat_minor": 2
}
