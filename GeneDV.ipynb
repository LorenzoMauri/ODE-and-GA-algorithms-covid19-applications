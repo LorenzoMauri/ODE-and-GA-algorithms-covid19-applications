{
 "cells": [
  {
   "cell_type": "markdown",
   "metadata": {},
   "source": [
    "# PROGETTO BIONFORMATICA DV \n",
    "------------------------------------------------------------------------------------------------------------------------------"
   ]
  },
  {
   "cell_type": "markdown",
   "metadata": {},
   "source": [
    "1. Leggere il file in un DataFrame, rimuovendo le righe che non si riferiscono al gene (il file contiene anche un miRNA)"
   ]
  },
  {
   "cell_type": "code",
   "execution_count": 154,
   "metadata": {},
   "outputs": [],
   "source": [
    "import pandas as pd \n",
    "import itertools \n",
    "import re\n",
    "import json \n",
    "f_path=\"https://raw.githubusercontent.com/LorenzoMauri/Progetto-Bioinformatica/master/data/ace2.gtf\"\n",
    "df = pd.read_csv(f_path,sep='\\t',skiprows=2,names=['chromosome','gene','start','end','score','strand','frame','attributes'])\n",
    "test=df.head(5)\n"
   ]
  },
  {
   "cell_type": "code",
   "execution_count": 155,
   "metadata": {},
   "outputs": [
    {
     "data": {
      "text/html": [
       "<div>\n",
       "<style scoped>\n",
       "    .dataframe tbody tr th:only-of-type {\n",
       "        vertical-align: middle;\n",
       "    }\n",
       "\n",
       "    .dataframe tbody tr th {\n",
       "        vertical-align: top;\n",
       "    }\n",
       "\n",
       "    .dataframe thead th {\n",
       "        text-align: right;\n",
       "    }\n",
       "</style>\n",
       "<table border=\"1\" class=\"dataframe\">\n",
       "  <thead>\n",
       "    <tr style=\"text-align: right;\">\n",
       "      <th></th>\n",
       "      <th>chromosome</th>\n",
       "      <th>gene</th>\n",
       "      <th>start</th>\n",
       "      <th>end</th>\n",
       "      <th>score</th>\n",
       "      <th>strand</th>\n",
       "      <th>frame</th>\n",
       "      <th>attributes</th>\n",
       "    </tr>\n",
       "  </thead>\n",
       "  <tbody>\n",
       "    <tr>\n",
       "      <td>X</td>\n",
       "      <td>Ensembl</td>\n",
       "      <td>gene</td>\n",
       "      <td>15464246</td>\n",
       "      <td>15556529</td>\n",
       "      <td>.</td>\n",
       "      <td>+</td>\n",
       "      <td>.</td>\n",
       "      <td>ID=ENSG00000102010.15;Name=ENSG00000102010.15;...</td>\n",
       "    </tr>\n",
       "    <tr>\n",
       "      <td>X</td>\n",
       "      <td>Ensembl</td>\n",
       "      <td>gene</td>\n",
       "      <td>15561033</td>\n",
       "      <td>15602148</td>\n",
       "      <td>.</td>\n",
       "      <td>-</td>\n",
       "      <td>.</td>\n",
       "      <td>ID=ENSG00000130234.11;Name=ENSG00000130234.11;...</td>\n",
       "    </tr>\n",
       "    <tr>\n",
       "      <td>X</td>\n",
       "      <td>Ensembl</td>\n",
       "      <td>gene</td>\n",
       "      <td>15561047</td>\n",
       "      <td>15675608</td>\n",
       "      <td>.</td>\n",
       "      <td>-</td>\n",
       "      <td>.</td>\n",
       "      <td>ID=ENSG00000285602.1;Name=ENSG00000285602.1;bi...</td>\n",
       "    </tr>\n",
       "    <tr>\n",
       "      <td>X</td>\n",
       "      <td>Ensembl</td>\n",
       "      <td>gene</td>\n",
       "      <td>15602881</td>\n",
       "      <td>15621484</td>\n",
       "      <td>.</td>\n",
       "      <td>+</td>\n",
       "      <td>.</td>\n",
       "      <td>ID=ENSG00000225833.1;Name=ENSG00000225833.1;bi...</td>\n",
       "    </tr>\n",
       "    <tr>\n",
       "      <td>X</td>\n",
       "      <td>Ensembl</td>\n",
       "      <td>gene</td>\n",
       "      <td>15627318</td>\n",
       "      <td>15675012</td>\n",
       "      <td>.</td>\n",
       "      <td>-</td>\n",
       "      <td>.</td>\n",
       "      <td>ID=ENSG00000147003.7;Name=ENSG00000147003.7;bi...</td>\n",
       "    </tr>\n",
       "  </tbody>\n",
       "</table>\n",
       "</div>"
      ],
      "text/plain": [
       "  chromosome  gene     start       end score strand frame  \\\n",
       "X    Ensembl  gene  15464246  15556529     .      +     .   \n",
       "X    Ensembl  gene  15561033  15602148     .      -     .   \n",
       "X    Ensembl  gene  15561047  15675608     .      -     .   \n",
       "X    Ensembl  gene  15602881  15621484     .      +     .   \n",
       "X    Ensembl  gene  15627318  15675012     .      -     .   \n",
       "\n",
       "                                          attributes  \n",
       "X  ID=ENSG00000102010.15;Name=ENSG00000102010.15;...  \n",
       "X  ID=ENSG00000130234.11;Name=ENSG00000130234.11;...  \n",
       "X  ID=ENSG00000285602.1;Name=ENSG00000285602.1;bi...  \n",
       "X  ID=ENSG00000225833.1;Name=ENSG00000225833.1;bi...  \n",
       "X  ID=ENSG00000147003.7;Name=ENSG00000147003.7;bi...  "
      ]
     },
     "execution_count": 155,
     "metadata": {},
     "output_type": "execute_result"
    }
   ],
   "source": [
    "#### lavoro su un df di test \n",
    "#1. come prima cosa trasformo la colonna attributes in colonne \n",
    "\n",
    "test"
   ]
  },
  {
   "cell_type": "code",
   "execution_count": 156,
   "metadata": {},
   "outputs": [
    {
     "data": {
      "text/plain": [
       "'ID=ENSG00000102010.15;Name=ENSG00000102010.15;biotype=protein_coding'"
      ]
     },
     "execution_count": 156,
     "metadata": {},
     "output_type": "execute_result"
    }
   ],
   "source": [
    "test['attributes'].iloc[0]"
   ]
  },
  {
   "cell_type": "code",
   "execution_count": 157,
   "metadata": {},
   "outputs": [
    {
     "data": {
      "text/plain": [
       "{'ID': ['ENSG00000102010.15',\n",
       "  'ENSG00000130234.11',\n",
       "  'ENSG00000285602.1',\n",
       "  'ENSG00000225833.1',\n",
       "  'ENSG00000147003.7'],\n",
       " 'Name': ['ENSG00000102010.15',\n",
       "  'ENSG00000130234.11',\n",
       "  'ENSG00000285602.1',\n",
       "  'ENSG00000225833.1',\n",
       "  'ENSG00000147003.7'],\n",
       " 'biotype': ['protein_coding',\n",
       "  'protein_coding',\n",
       "  'protein_coding',\n",
       "  'lncRNA',\n",
       "  'protein_coding']}"
      ]
     },
     "execution_count": 157,
     "metadata": {},
     "output_type": "execute_result"
    }
   ],
   "source": [
    "#splitto la colonna e creo una lista contenente i nomi delle colonne, in questo modo vedo quante colonne ci saranno nel futuro df\n",
    "dictionary = {}\n",
    "test=(test['attributes'].str.split(';')).explode().to_list()\n",
    "\n",
    "for i in test : \n",
    "    categoria = re.findall('(.*)=',i)[0]\n",
    "    valore = re.findall('=(.*)',i)\n",
    "    if categoria not in dictionary:\n",
    "        dictionary[categoria]=valore\n",
    "    else : \n",
    "        dictionary[categoria]+=valore\n",
    "dictionary\n"
   ]
  },
  {
   "cell_type": "code",
   "execution_count": null,
   "metadata": {},
   "outputs": [],
   "source": []
  },
  {
   "cell_type": "code",
   "execution_count": null,
   "metadata": {},
   "outputs": [],
   "source": []
  },
  {
   "cell_type": "code",
   "execution_count": null,
   "metadata": {},
   "outputs": [],
   "source": []
  }
 ],
 "metadata": {
  "kernelspec": {
   "display_name": "Python 3",
   "language": "python",
   "name": "python3"
  },
  "language_info": {
   "codemirror_mode": {
    "name": "ipython",
    "version": 3
   },
   "file_extension": ".py",
   "mimetype": "text/x-python",
   "name": "python",
   "nbconvert_exporter": "python",
   "pygments_lexer": "ipython3",
   "version": "3.7.4"
  }
 },
 "nbformat": 4,
 "nbformat_minor": 4
}
