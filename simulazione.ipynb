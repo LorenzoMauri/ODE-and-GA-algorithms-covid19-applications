{
 "cells": [
  {
   "cell_type": "code",
   "execution_count": 37,
   "metadata": {},
   "outputs": [
    {
     "output_type": "error",
     "ename": "SyntaxError",
     "evalue": "invalid syntax (<ipython-input-37-5410dfbf8ca4>, line 3)",
     "traceback": [
      "\u001b[1;36m  File \u001b[1;32m\"<ipython-input-37-5410dfbf8ca4>\"\u001b[1;36m, line \u001b[1;32m3\u001b[0m\n\u001b[1;33m    loc_search = s calsearch()\u001b[0m\n\u001b[1;37m                           ^\u001b[0m\n\u001b[1;31mSyntaxError\u001b[0m\u001b[1;31m:\u001b[0m invalid syntax\n"
     ]
    }
   ],
   "source": [
    "def ils(max_iterazioni):\n",
    "        iniziale = Parameters().initializeParameters(sinimo,sassimo) \n",
    "        loc_search = s calsearch()\n",
    "0.00001,0.001        k=loc_search[0]\n",
    "        best_val = loc_search[1]\n",
    "        best_errore = loc_search[2]\n",
    "        #iter_errore = [best_errore]\n",
    "        #iter_best_errore = [best_errore]\n",
    "        for c in range(self.maxazioni):\n",
    "            val=best_val\n",
    "            nuova_iniziale = self.pertuone(k)\n",
    "            loc_search = self.locals()\n",
    "            val = loc_search[1]\n",
    "            if loc_search[2] < best_errore: # Se nuovo errore minore best si aggiorna il best\n",
    "                best_errore = loc_search[2]\n",
    "                best_val= loc_search[1]\n",
    "                k=loc_search[0]\n",
    "        # elif loc_search[0] == best_pers and loc_search[1] < best_num: # se uguale si tiene come best il numero più piccolo\n",
    "                # best_num =loc_search[1]\n",
    "            #iter_pers.append(loc_search[0])\n",
    "        # iter_best_pers.append(best_pers)\n",
    "    # results = {\"errore\":iter_pers, \"persistenza_migliore\":iter_best_pers, \"numero_migliore\":best_num,\"ripetizioni\":conta(best_num)}\n",
    "        return(k,best_val,best_errore)  \n",
    "d\n",
    "e\n",
    "f\n",
    " \n",
    "grafico(self):\n",
    "    "
   ]
  },
  {
   "cell_type": "code",
   "execution_count": null,
   "metadata": {},
   "outputs": [],
   "source": []
  },
  {
   "cell_type": "code",
   "execution_count": null,
   "metadata": {},
   "outputs": [],
   "source": []
  },
  {
   "cell_type": "code",
   "execution_count": null,
   "metadata": {},
   "outputs": [],
   "source": []
  },
  {
   "cell_type": "code",
   "execution_count": null,
   "metadata": {},
   "outputs": [],
   "source": []
  },
  {
   "cell_type": "code",
   "execution_count": null,
   "metadata": {},
   "outputs": [],
   "source": [
    "\n",
    "\n",
    "def grafico(self):\n",
    "        ret=self.ils()\n",
    "        ret=ret[1]\n",
    "        fig = plt.figure(facecolor='w')\n",
    "        ax = fig.add_subplot(111)\n",
    "        t = np.linspace(0,61,63)\n",
    "        ax.plot(t, ret[:,1], 'r', alpha=0.7 ,lw=2, label='Infetti')\n",
    "        ax.plot(t, ret[:,2], 'g', alpha=0.7 ,lw=2, label='Deceduti')\n",
    "        ax.plot(t, ret[:,3], 'k', alpha=0.7, lw=2, label='Guariti')\n",
    "        ax.set_xlabel('tempo (in giorni)')\n",
    "        ax.set_ylabel('Persone (x1000)')\n",
    "        ax.set_ylim(0,700000)\n",
    "        legend = ax.legend()\n",
    "        for spine in ('top', 'right', 'bottom', 'left'):\n",
    "            ax.spines[spine].set_visible(False)\n",
    "        plt.show()"
   ]
  }
 ],
 "metadata": {
  "language_info": {
   "codemirror_mode": {
    "name": "ipython",
    "version": 3
   },
   "file_extension": ".py",
   "mimetype": "text/x-python",
   "name": "python",
   "nbconvert_exporter": "python",
   "pygments_lexer": "ipython3",
   "version": "3.7.4-final"
  },
  "orig_nbformat": 2,
  "kernelspec": {
   "name": "python3",
   "display_name": "Python 3"
  }
 },
 "nbformat": 4,
 "nbformat_minor": 2
}