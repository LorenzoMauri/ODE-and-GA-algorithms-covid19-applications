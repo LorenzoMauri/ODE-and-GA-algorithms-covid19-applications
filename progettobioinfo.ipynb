{
 "cells": [
  {
   "cell_type": "code",
   "execution_count": 1,
   "metadata": {},
   "outputs": [],
   "source": [
    "from scipy.integrate import odeint\n",
    "import numpy as np\n",
    "import pylab as pl\n",
    "import matplotlib.pyplot as plt"
   ]
  },
  {
   "cell_type": "markdown",
   "metadata": {},
   "source": [
    "- semplificazione del modello : togliere immuni, asintomatici\n",
    "\n",
    "- la funzione min(deriv) è la funzione obiettivo (minimizzazione dei minimi quadrati rispetto ai dati osservati (vedi link)\n",
    "\n",
    "- stabilire il range dei k coefficienti \n",
    "\n",
    "- domanda di ricerca : valutazione delle misure preventive e previsione \n",
    "\n",
    "- componente stocastica del modello \n",
    "\n",
    "https://github.com/pcm-dpc/COVID-19/blob/master/dati-andamento-nazionale/dpc-covid19-ita-andamento-nazionale.csv\n"
   ]
  }
 ],
 "metadata": {
  "kernelspec": {
   "display_name": "Python 3",
   "language": "python",
   "name": "python3"
  },
  "language_info": {
   "codemirror_mode": {
    "name": "ipython",
    "version": 3
   },
   "file_extension": ".py",
   "mimetype": "text/x-python",
   "name": "python",
   "nbconvert_exporter": "python",
   "pygments_lexer": "ipython3",
   "version": "3.7.4"
  }
 },
 "nbformat": 4,
 "nbformat_minor": 4
}