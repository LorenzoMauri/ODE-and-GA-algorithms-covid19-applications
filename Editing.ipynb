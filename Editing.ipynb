{
 "cells": [
  {
   "cell_type": "markdown",
   "metadata": {},
   "source": [
    "# Ottimizzazione dei parametri"
   ]
  },
  {
   "cell_type": "code",
   "execution_count": 18,
   "metadata": {},
   "outputs": [],
   "source": [
    "import pandas as pd\n",
    "from scipy.integrate import odeint\n",
    "import numpy as np\n",
    "import pylab as pl\n",
    "import matplotlib.pyplot as plt\n",
    "import random\n",
    "from statistics import mean \n",
    "import itertools\n",
    "import ga \n",
    "import math\n",
    "path_file=\"https://raw.githubusercontent.com/pcm-dpc/COVID-19/master/dati-andamento-nazionale/dpc-covid19-ita-andamento-nazionale.csv\"\n",
    "dataset=pd.read_csv(path_file,parse_dates=['data'])\n",
    "\n",
    "# guariti,infetti,sani, morti \n",
    "dataset['asintomatici']= dataset['totale_casi'] * 0.44 \n",
    "dataset['immuni'] = dataset['dimessi_guariti'] * 0.05  #verificare proporzione\n",
    "data=dataset[['totale_positivi','dimessi_guariti','deceduti','asintomatici','immuni']]\n",
    "\n",
    "\n",
    "def initializeParameters(minimo,massimo,n=9):\n",
    "        return tuple([random.uniform(minimo,massimo) for i in range(0,n)])\n",
    "\n",
    "def deriv(y,t,k1,k2,k3,k4,k5,k6,k7,k8,k9):  \n",
    "    '''set di equazioni differenziali'''\n",
    "    Sani,Infetti,Asintomatici,Morti,Guariti,Immuni = y \n",
    "    dSanidt =  -k1*Sani*Infetti -k2*Sani*Infetti-k3*Sani*Asintomatici- k4*Sani*Asintomatici\n",
    "    dInfettidt = k1*Sani*Infetti+k4*Sani-k6*Infetti-k7*Infetti\n",
    "    dAsintomaticidt =k2*Sani*Infetti+k3*Sani*Asintomatici-k5*Asintomatici\n",
    "    dMortidt=k6*Infetti\n",
    "    dGuaritidt = k5*Asintomatici+k7*Infetti-k8*Guariti-k9*Guariti\n",
    "    dImmunidt = k9*Guariti\n",
    "    return dSanidt,dInfettidt,dAsintomaticidt,dMortidt,dGuaritidt,dImmunidt  \n",
    "\n",
    "def perturbazione(ls):\n",
    "    sup = 0.2\n",
    "    for i in range(len(ls)):\n",
    "        if ls[i] < 0.5:\n",
    "            ls[i]=random.uniform(ls[i],ls[i]+sup)\n",
    "        else:\n",
    "            ls[i]=random.uniform(0,ls[i]-sup)\n",
    "    return(ls)\n",
    "\n",
    "def diffusione(parameters,Sani = 6036000, Infetti=221,Guariti=1, Morti= 7,Immuni = 8,Asintomatici=10,orizzonte_temporale_in_gg=data.shape[0]):\n",
    "        y0 =  [Sani,Infetti,Morti,Guariti,Immuni,Asintomatici]\n",
    "        t = np.linspace(0,orizzonte_temporale_in_gg,orizzonte_temporale_in_gg)\n",
    "        ret = odeint(deriv, y0, t,args=parameters)\n",
    "        return(ret)\n",
    "\n",
    "def fitness(previsti):\n",
    "        df=pd.DataFrame(previsti,columns=['sani','totale_positivi','dimessi_guariti','deceduti','asintomatici','immuni'])\n",
    "        df=df.drop(columns=['sani'])\n",
    "        dataframe=((df-data)**2)\n",
    "        lista=dataframe.values.tolist()\n",
    "        merged = list(itertools.chain.from_iterable(lista))\n",
    "        media=mean(merged)\n",
    "        return media \n",
    "\n",
    "def localsearch(iniziale,iterazioni,minimo,massimo,param_only=True):\n",
    "        #list(initializeParameters(minimo,massimo))\n",
    "        k=iniziale.copy()\n",
    "        errore= math.inf\n",
    "        val='1'\n",
    "        for c in range(iterazioni):\n",
    "            valori=diffusione(tuple(k))\n",
    "            stimaerrore=fitness(valori)\n",
    "            if stimaerrore<errore:\n",
    "                errore=stimaerrore\n",
    "                val=valori \n",
    "                k=iniziale\n",
    "            iniziale = list(initializeParameters(minimo,massimo))\n",
    "        if param_only==True : \n",
    "            return k\n",
    "        else : \n",
    "            return (k,val,errore)\n",
    "\n",
    "def ils(iterazioni=10,minimo=0.00001,massimo=0.001,param_only=True):\n",
    "        iniziale = list(initializeParameters(minimo,massimo))\n",
    "        loc_search = localsearch(iniziale,iterazioni,minimo,massimo,param_only=False)\n",
    "        k=loc_search[0]\n",
    "        best_val = loc_search[1]\n",
    "        best_errore = loc_search[2]\n",
    "        val=0\n",
    "        for c in range(iterazioni):\n",
    "            val=best_val\n",
    "            nuova_iniziale = perturbazione(k)\n",
    "            loc_search = localsearch(nuova_iniziale,iterazioni,minimo,massimo,param_only=False)\n",
    "            val = loc_search[1]\n",
    "            if loc_search[2] < best_errore: # Se nuovo errore minore best si aggiorna il best\n",
    "                best_errore = loc_search[2]\n",
    "                best_val= loc_search[1]\n",
    "                k=loc_search[0]\n",
    "        if param_only == True : \n",
    "            return k\n",
    "        else : return k,best_val,best_errore  \n",
    "\n",
    "\n"
   ]
  },
  {
   "cell_type": "code",
   "execution_count": 12,
   "metadata": {},
   "outputs": [],
   "source": [
    "p=ils(10,0.00000001,0.00001,True)"
   ]
  },
  {
   "cell_type": "code",
   "execution_count": 20,
   "metadata": {},
   "outputs": [],
   "source": [
    "minimo=0.00001\n",
    "massimo=0.01\n",
    "iterazioni=10\n",
    "iniziale = list(initializeParameters(minimo,massimo))\n",
    "loc_search = localsearch(iniziale,iterazioni,minimo,massimo,param_only=False)\n",
    "k=loc_search[0]\n",
    "best_val = loc_search[1]\n",
    "best_errore = loc_search[2]\n",
    "val=0\n",
    "for c in range(iterazioni):\n",
    "    val=best_val\n",
    "    nuova_iniziale = perturbazione(k)\n",
    "    loc_search = localsearch(nuova_iniziale,iterazioni,minimo,massimo,param_only=False)\n",
    "    val = loc_search[1]\n",
    "    if loc_search[2] < best_errore: # Se nuovo errore minore best si aggiorna il best\n",
    "        best_errore = loc_search[2]\n",
    "        best_val= loc_search[1]\n",
    "        k=loc_search[0]"
   ]
  },
  {
   "cell_type": "code",
   "execution_count": 25,
   "metadata": {},
   "outputs": [],
   "source": [
    "a=perturbazione(localsearch(iniziale,iterazioni,minimo,massimo,param_only=False)[0])"
   ]
  },
  {
   "cell_type": "code",
   "execution_count": 26,
   "metadata": {},
   "outputs": [
    {
     "output_type": "execute_result",
     "data": {
      "text/plain": "([0.4398546884257999,\n  0.1988009342836376,\n  0.3231774739649652,\n  0.39075948764035684,\n  0.27183147758214093,\n  0.15440133355185504,\n  0.3379073378750751,\n  0.25216336798270833,\n  0.3018718001510563],\n array([[ 6.03600000e+06,  2.21000000e+02,  7.00000000e+00,\n          1.00000000e+00,  8.00000000e+00,  1.00000000e+01],\n        [ 6.52423934e-24,  9.47201394e+05,  1.82978463e+06,\n          1.92774831e+05,  7.54476279e+05,  1.35876892e+05],\n        [ 2.89642680e-26,  5.74435975e+05,  1.38826117e+06,\n          3.09684163e+05,  9.54184751e+05,  4.07038131e+05],\n        [-2.62302383e-24,  3.48370150e+05,  1.05327646e+06,\n          3.80584529e+05,  9.12292618e+05,  6.96926889e+05],\n        [-1.21058876e-23,  2.11271174e+05,  7.99122907e+05,\n          4.23582481e+05,  7.81794584e+05,  9.57780208e+05],\n        [-8.79394275e-22,  1.28126676e+05,  6.06296110e+05,\n          4.49658848e+05,  6.33503223e+05,  1.17473613e+06],\n        [-1.40659211e-24,  7.77031947e+04,  4.59998043e+05,\n          4.65473017e+05,  4.97135179e+05,  1.34760693e+06],\n        [-1.04225140e-20,  4.71235709e+04,  3.49001414e+05,\n          4.75063615e+05,  3.82636741e+05,  1.48190634e+06],\n        [ 7.99065180e-22,  2.85783736e+04,  2.64788055e+05,\n          4.80879891e+05,  2.91029714e+05,  1.58463939e+06],\n        [-3.87606696e-20,  1.73315270e+04,  2.00895214e+05,\n          4.84407207e+05,  2.19768642e+05,  1.66248546e+06],\n        [ 1.00106396e-20,  1.05108090e+04,  1.52419592e+05,\n          4.86546369e+05,  1.65270742e+05,  1.72114245e+06],\n        [ 4.84643590e-20,  6.37434349e+03,  1.15641042e+05,\n          4.87843677e+05,  1.24022537e+05,  1.76520308e+06],\n        [ 5.01391815e-20,  3.86575904e+03,  8.77370844e+04,\n          4.88630437e+05,  9.29936340e+04,  1.79825141e+06],\n        [ 6.48022306e-19,  2.34441287e+03,  6.65662973e+04,\n          4.89107572e+05,  6.97306423e+04,  1.82303056e+06],\n        [ 2.09091745e-19,  1.42178332e+03,  5.05039798e+04,\n          4.89396934e+05,  5.23167763e+04,  1.84161545e+06],\n        [ 2.40739119e-18,  8.62249065e+02,  3.83174681e+04,\n          4.89572419e+05,  3.92858965e+04,  1.85556466e+06],\n        [ 2.62772215e-18,  5.22916144e+02,  2.90715379e+04,\n          4.89678843e+05,  2.95308144e+04,  1.86604446e+06],\n        [ 1.60859761e-18,  3.17125648e+02,  2.20566326e+04,\n          4.89743384e+05,  2.22216898e+04,  1.87392602e+06],\n        [-5.59669556e-18,  1.92322761e+02,  1.67344103e+04,\n          4.89782526e+05,  1.67391130e+04,  1.87985980e+06],\n        [-1.23746663e-17,  1.16635298e+02,  1.26964298e+04,\n          4.89806263e+05,  1.26216040e+04,  1.88433171e+06],\n        [-4.02608875e-17,  7.07341794e+01,  9.63280606e+03,\n          4.89820659e+05,  9.52547456e+03,  1.88770508e+06],\n        [-1.85024635e-16,  4.28971695e+01,  7.30842877e+03,\n          4.89829390e+05,  7.19461366e+03,  1.89025195e+06],\n        [ 3.99016144e-15,  2.60152471e+01,  5.54491919e+03,\n          4.89834684e+05,  5.43794949e+03,  1.89217626e+06],\n        [-7.87129177e-16,  1.57771034e+01,  4.20694102e+03,\n          4.89837895e+05,  4.11272117e+03,  1.89363117e+06],\n        [ 1.63003897e-14,  9.56811947e+00,  3.19181437e+03,\n          4.89839843e+05,  3.11209047e+03,  1.89473179e+06],\n        [ 3.01678079e-13,  5.80264373e+00,  2.42163580e+03,\n          4.89841024e+05,  2.35597147e+03,  1.89556482e+06],\n        [-1.12803021e-10,  3.51904827e+00,  1.83729981e+03,\n          4.89841740e+05,  1.78423704e+03,  1.89619557e+06],\n        [ 2.88540365e-10,  2.13414804e+00,  1.39396295e+03,\n          4.89842174e+05,  1.35167861e+03,  1.89667333e+06],\n        [-6.22780606e-10,  1.29426693e+00,  1.05760242e+03,\n          4.89842437e+05,  1.02425936e+03,  1.89703531e+06],\n        [-1.48660511e-10,  7.84915956e-01,  8.02405019e+02,\n          4.89842597e+05,  7.76323280e+02,  1.89730964e+06],\n        [-3.30112593e-09,  4.76017066e-01,  6.08786257e+02,\n          4.89842694e+05,  5.88511496e+02,  1.89751758e+06],\n        [ 7.18252010e-12,  2.88683457e-01,  4.61887326e+02,\n          4.89842753e+05,  4.46203607e+02,  1.89767523e+06],\n        [ 1.29268802e-13,  1.75073799e-01,  3.50434814e+02,\n          4.89842788e+05,  3.38349350e+02,  1.89779476e+06],\n        [-8.15872025e-13,  1.06174578e-01,  2.65875580e+02,\n          4.89842810e+05,  2.56591389e+02,  1.89788541e+06],\n        [ 1.31615157e-11,  6.43902378e-02,  2.01720324e+02,\n          4.89842823e+05,  1.94605551e+02,  1.89795415e+06],\n        [-3.69577280e-10,  3.90498664e-02,  1.53045605e+02,\n          4.89842831e+05,  1.47604002e+02,  1.89800629e+06],\n        [ 1.24814432e-09,  2.36820385e-02,  1.16116001e+02,\n          4.89842836e+05,  1.11960627e+02,  1.89804584e+06],\n        [-8.99203162e-09,  1.43621259e-02,  8.80974386e+01,\n          4.89842839e+05,  8.49282722e+01,  1.89807584e+06],\n        [ 9.49957173e-10,  8.71000378e-03,  6.68396997e+01,\n          4.89842841e+05,  6.44251349e+01,  1.89809860e+06],\n        [-9.43842280e-11,  5.28223025e-03,  5.07114088e+01,\n          4.89842842e+05,  4.88732729e+01,  1.89811586e+06],\n        [-4.48719046e-11,  3.20344214e-03,  3.84748457e+01,\n          4.89842842e+05,  3.70764487e+01,  1.89812895e+06],\n        [ 2.07099070e-10,  1.94274823e-03,  2.91909411e+01,\n          4.89842843e+05,  2.81276481e+01,  1.89813889e+06],\n        [ 2.11619110e-09,  1.17819364e-03,  2.21472251e+01,\n          4.89842843e+05,  2.13390789e+01,  1.89814643e+06],\n        [ 1.68527850e-08,  7.14525137e-04,  1.68031437e+01,\n          4.89842843e+05,  1.61891310e+01,  1.89815214e+06],\n        [ 7.01672601e-10,  4.33322513e-04,  1.27485782e+01,\n          4.89842843e+05,  1.22821936e+01,  1.89815648e+06],\n        [ 2.28887775e-10,  2.62790978e-04,  9.67237111e+00,\n          4.89842843e+05,  9.31819916e+00,  1.89815977e+06],\n        [-9.09874118e-11,  1.59371256e-04,  7.33844693e+00,\n          4.89842843e+05,  7.06953753e+00,  1.89816227e+06],\n        [-4.63549589e-11,  9.66517571e-05,  5.56769418e+00,\n          4.89842843e+05,  5.36355099e+00,  1.89816416e+06],\n        [ 1.27377191e-10,  5.86151358e-05,  4.22422063e+00,\n          4.89842843e+05,  4.06926291e+00,  1.89816560e+06],\n        [ 3.81611856e-10,  3.55475569e-05,  3.20492458e+00,\n          4.89842843e+05,  3.08731280e+00,  1.89816669e+06],\n        [-3.57554305e-10,  2.15579290e-05,  2.43158264e+00,\n          4.89842843e+05,  2.34232289e+00,  1.89816752e+06],\n        [-7.23026562e-12,  1.30739055e-05,  1.84484657e+00,\n          4.89842843e+05,  1.77710829e+00,  1.89816815e+06],\n        [ 4.42159698e-11,  7.92874807e-06,  1.39968875e+00,\n          4.89842843e+05,  1.34828539e+00,  1.89816862e+06],\n        [ 6.09032699e-11,  4.80843960e-06,  1.06194664e+00,\n          4.89842843e+05,  1.02294059e+00,  1.89816898e+06],\n        [ 6.47932405e-11,  2.91610980e-06,  8.05701017e-01,\n          4.89842843e+05,  7.76103277e-01,  1.89816926e+06],\n        [ 1.37422717e-11,  1.76849985e-06,  6.11286953e-01,\n          4.89842843e+05,  5.88828789e-01,  1.89816947e+06],\n        [ 7.80787472e-12,  1.07252372e-06,  4.63784618e-01,\n          4.89842843e+05,  4.46744165e-01,  1.89816962e+06],\n        [ 5.81948860e-12,  6.50440855e-07,  3.51874316e-01,\n          4.89842843e+05,  3.38944839e-01,  1.89816974e+06],\n        [ 4.65627454e-12,  3.94465680e-07,  2.66967736e-01,\n          4.89842843e+05,  2.57157598e-01,  1.89816984e+06],\n        [ 3.93152511e-12,  2.39227528e-07,  2.02548947e-01,\n          4.89842843e+05,  1.95105660e-01,  1.89816990e+06],\n        [ 3.45789578e-12,  1.45081462e-07,  1.53674276e-01,\n          4.89842843e+05,  1.48026849e-01,  1.89816996e+06],\n        [ 3.13699739e-12,  8.79866448e-08,  1.16592966e-01,\n          4.89842843e+05,  1.12308136e-01,  1.89817000e+06],\n        [ 2.91355842e-12,  5.33609123e-08,  8.84593086e-02,\n          4.89842843e+05,  8.52083288e-02,  1.89817003e+06],\n        [ 2.75471428e-12,  3.23616857e-08,  6.71142445e-02,\n          4.89842843e+05,  6.46476769e-02,  1.89817005e+06]]),\n 723574126813.0183)"
     },
     "metadata": {},
     "execution_count": 26
    }
   ],
   "source": [
    "localsearch(nuova_iniziale,iterazioni,minimo,massimo,param_only=False)"
   ]
  }
 ],
 "metadata": {
  "language_info": {
   "codemirror_mode": {
    "name": "ipython",
    "version": 3
   },
   "file_extension": ".py",
   "mimetype": "text/x-python",
   "name": "python",
   "nbconvert_exporter": "python",
   "pygments_lexer": "ipython3",
   "version": "3.7.4-final"
  },
  "orig_nbformat": 2,
  "kernelspec": {
   "name": "python3",
   "display_name": "Python 3"
  }
 },
 "nbformat": 4,
 "nbformat_minor": 2
}