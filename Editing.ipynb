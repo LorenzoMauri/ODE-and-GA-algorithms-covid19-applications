{
 "cells": [
  {
   "cell_type": "markdown",
   "metadata": {},
   "source": [
    "# Ottimizzazione dei parametri"
   ]
  },
  {
   "cell_type": "code",
   "execution_count": 27,
   "metadata": {},
   "outputs": [],
   "source": [
    "import pandas as pd\n",
    "from scipy.integrate import odeint\n",
    "import numpy as np\n",
    "import pylab as pl\n",
    "import matplotlib.pyplot as plt\n",
    "import random\n",
    "from statistics import mean \n",
    "import itertools\n",
    "import ga \n",
    "import math\n",
    "path_file=\"https://raw.githubusercontent.com/pcm-dpc/COVID-19/master/dati-andamento-nazionale/dpc-covid19-ita-andamento-nazionale.csv\"\n",
    "dataset=pd.read_csv(path_file,parse_dates=['data'])\n",
    "\n",
    "# guariti,infetti,sani, morti \n",
    "dataset['asintomatici']= dataset['totale_casi'] * 0.44 \n",
    "dataset['immuni'] = dataset['dimessi_guariti'] * 0.05  #verificare proporzione\n",
    "data=dataset[['totale_positivi','dimessi_guariti','deceduti','asintomatici','immuni']]\n",
    "\n",
    "\n",
    "def initializeParameters(minimo,massimo,n=9):\n",
    "        return tuple([random.uniform(minimo,massimo) for i in range(0,n)])\n",
    "\n",
    "def deriv(y,t,k1,k2,k3,k4,k5,k6,k7,k8,k9):  \n",
    "    '''set di equazioni differenziali'''\n",
    "    Sani,Infetti,Asintomatici,Morti,Guariti,Immuni = y \n",
    "    dSanidt =  -k1*Sani*Infetti -k2*Sani*Infetti-k3*Sani*Asintomatici- k4*Sani*Asintomatici\n",
    "    dInfettidt = k1*Sani*Infetti+k4*Sani-k6*Infetti-k7*Infetti\n",
    "    dAsintomaticidt =k2*Sani*Infetti+k3*Sani*Asintomatici-k5*Asintomatici\n",
    "    dMortidt=k6*Infetti\n",
    "    dGuaritidt = k5*Asintomatici+k7*Infetti-k8*Guariti-k9*Guariti\n",
    "    dImmunidt = k9*Guariti\n",
    "    return dSanidt,dInfettidt,dAsintomaticidt,dMortidt,dGuaritidt,dImmunidt  \n",
    "\n",
    "def perturbazione(ls):\n",
    "    sup = 0.2\n",
    "    for i in range(len(ls)):\n",
    "        if ls[i] < 0.5:\n",
    "            ls[i]=random.uniform(ls[i],ls[i]+sup)\n",
    "        else:\n",
    "            ls[i]=random.uniform(0,ls[i]-sup)\n",
    "    return(ls)\n",
    "\n",
    "def diffusione(parameters,Sani = 6036000, Infetti=221,Guariti=1, Morti= 7,Immuni = 8,Asintomatici=10,orizzonte_temporale_in_gg=data.shape[0]):\n",
    "        y0 =  [Sani,Infetti,Morti,Guariti,Immuni,Asintomatici]\n",
    "        t = np.linspace(0,orizzonte_temporale_in_gg,orizzonte_temporale_in_gg)\n",
    "        ret = odeint(deriv, y0, t,args=parameters)\n",
    "        return(ret)\n",
    "\n",
    "def fitness(previsti):\n",
    "        df=pd.DataFrame(previsti,columns=['sani','totale_positivi','dimessi_guariti','deceduti','asintomatici','immuni'])\n",
    "        df=df.drop(columns=['sani'])\n",
    "        dataframe=((df-data)**2)\n",
    "        lista=dataframe.values.tolist()\n",
    "        merged = list(itertools.chain.from_iterable(lista))\n",
    "        media=mean(merged)\n",
    "        return media \n",
    "\n",
    "def localsearch(iniziale,iterazioni,minimo,massimo,param_only=True):\n",
    "        #list(initializeParameters(minimo,massimo))\n",
    "        k=iniziale.copy()\n",
    "        errore= math.inf\n",
    "        val='1'\n",
    "        set_ottimo=[]\n",
    "        for c in range(iterazioni):\n",
    "            valori=diffusione(tuple(k))\n",
    "            stimaerrore=fitness(valori)\n",
    "            if stimaerrore<errore:\n",
    "                errore=stimaerrore\n",
    "                val=valori \n",
    "                set_ottimo=iniziale\n",
    "            iniziale = list(initializeParameters(minimo,massimo))\n",
    "            k=iniziale.copy()\n",
    "        if param_only==True : \n",
    "            return set_ottimo\n",
    "        else : \n",
    "            return (set_ottimo,val,errore)\n",
    "\n",
    "def ils(iterazioni=10,minimo=0.00001,massimo=0.001,param_only=True):\n",
    "        iniziale = list(initializeParameters(minimo,massimo))\n",
    "        loc_search = localsearch(iniziale,iterazioni,minimo,massimo,param_only=False)\n",
    "        k=loc_search[0]\n",
    "        best_val = loc_search[1]\n",
    "        best_errore = loc_search[2]\n",
    "        val=0\n",
    "        for c in range(iterazioni):\n",
    "            val=best_val\n",
    "            nuova_iniziale = perturbazione(k)\n",
    "            loc_search = localsearch(nuova_iniziale,iterazioni,minimo,massimo,param_only=False)\n",
    "            val = loc_search[1]\n",
    "            if loc_search[2] < best_errore: # Se nuovo errore minore best si aggiorna il best\n",
    "                best_errore = loc_search[2]\n",
    "                best_val= loc_search[1]\n",
    "                k=loc_search[0]\n",
    "        if param_only == True : \n",
    "            return k\n",
    "        else : return k,best_val,best_errore  \n",
    "\n",
    "\n"
   ]
  },
  {
   "cell_type": "code",
   "execution_count": 49,
   "metadata": {},
   "outputs": [
    {
     "output_type": "execute_result",
     "data": {
      "text/plain": "[0.28631806517741815,\n 0.08379106292299272,\n 0.35632564539013395,\n 0.4928745441424222,\n 0.16700924299800604,\n 0.18589290088107546,\n 0.4526659972145615,\n 0.18295030029963563,\n 0.38857911167472464]"
     },
     "metadata": {},
     "execution_count": 49
    }
   ],
   "source": [
    "ils()"
   ]
  },
  {
   "cell_type": "code",
   "execution_count": null,
   "metadata": {},
   "outputs": [],
   "source": []
  }
 ],
 "metadata": {
  "language_info": {
   "codemirror_mode": {
    "name": "ipython",
    "version": 3
   },
   "file_extension": ".py",
   "mimetype": "text/x-python",
   "name": "python",
   "nbconvert_exporter": "python",
   "pygments_lexer": "ipython3",
   "version": "3.7.4-final"
  },
  "orig_nbformat": 2,
  "kernelspec": {
   "name": "python3",
   "display_name": "Python 3"
  }
 },
 "nbformat": 4,
 "nbformat_minor": 2
}