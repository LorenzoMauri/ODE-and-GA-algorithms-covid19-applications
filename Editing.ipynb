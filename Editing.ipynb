{
 "cells": [
  {
   "cell_type": "markdown",
   "metadata": {},
   "source": [
    "# PY OOP -  Ottimizzazione dei parametri"
   ]
  },
  {
   "cell_type": "code",
   "execution_count": 135,
   "metadata": {},
   "outputs": [],
   "source": [
    "import pandas as pd\n",
    "from scipy.integrate import odeint\n",
    "import numpy as np\n",
    "import pylab as pl\n",
    "import matplotlib.pyplot as plt\n",
    "import random\n",
    "from statistics import mean \n",
    "import itertools\n",
    "import ga \n",
    "import math\n",
    "path_file=\"https://raw.githubusercontent.com/pcm-dpc/COVID-19/master/dati-andamento-nazionale/dpc-covid19-ita-andamento-nazionale.csv\"\n",
    "dataset=pd.read_csv(path_file,parse_dates=['data'])\n",
    "\n",
    "# guariti,infetti,sani, morti \n",
    "dataset['asintomatici']= dataset['totale_casi'] * 0.44 \n",
    "dataset['immuni'] = dataset['dimessi_guariti'] * 0.05  #verificare proporzione\n",
    "data=dataset[['totale_positivi','dimessi_guariti','deceduti','asintomatici','immuni']]\n",
    "\n",
    "\n",
    "def initializeParameters(minimo,massimo,n=9):\n",
    "        return tuple([random.uniform(minimo,massimo) for i in range(0,n)])\n",
    "\n",
    "def deriv(y,t,k1,k2,k3,k4,k5,k6,k7,k8,k9):  \n",
    "    '''set di equazioni differenziali'''\n",
    "    Sani,Infetti,Asintomatici,Morti,Guariti,Immuni = y \n",
    "    dSanidt =  -k1*Sani*Infetti -k2*Sani*Infetti-k3*Sani*Asintomatici- k4*Sani*Asintomatici\n",
    "    dInfettidt = k1*Sani*Infetti+k4*Sani-k6*Infetti-k7*Infetti\n",
    "    dAsintomaticidt =k2*Sani*Infetti+k3*Sani*Asintomatici-k5*Asintomatici\n",
    "    dMortidt=k6*Infetti\n",
    "    dGuaritidt = k5*Asintomatici+k7*Infetti-k8*Guariti-k9*Guariti\n",
    "    dImmunidt = k9*Guariti\n",
    "    return dSanidt,dInfettidt,dAsintomaticidt,dMortidt,dGuaritidt,dImmunidt  \n",
    "\n",
    "def perturbazione(ls):\n",
    "    sup = 0.2\n",
    "    for i in range(len(ls)):\n",
    "        if ls[i] < 0.5:\n",
    "            ls[i]=random.uniform(ls[i],ls[i]+sup)\n",
    "        else:\n",
    "            ls[i]=random.uniform(0,ls[i]-sup)\n",
    "    return(ls)\n",
    "\n",
    "def diffusione(parameters,Sani = 6036000, Infetti=221,Guariti=1, Morti= 7,Immuni = 8,Asintomatici=10,orizzonte_temporale_in_gg=data.shape[0]):\n",
    "        y0 =  [Sani,Infetti,Morti,Guariti,Immuni,Asintomatici]\n",
    "        t = np.linspace(0,orizzonte_temporale_in_gg,orizzonte_temporale_in_gg)\n",
    "        ret = odeint(deriv, y0, t,args=parameters)\n",
    "        return(ret)\n",
    "\n",
    "def fitness(previsti):\n",
    "        df=pd.DataFrame(previsti,columns=['sani','totale_positivi','dimessi_guariti','deceduti','asintomatici','immuni'])\n",
    "        df=df.drop(columns=['sani'])\n",
    "        dataframe=((df-data)**2)\n",
    "        lista=dataframe.values.tolist()\n",
    "        merged = list(itertools.chain.from_iterable(lista))\n",
    "        media=mean(merged)\n",
    "        return media \n",
    "\n",
    "def localsearch(iniziale,iterazioni,minimo,massimo,param_only=True):\n",
    "        #list(initializeParameters(minimo,massimo))\n",
    "        k=iniziale.copy()\n",
    "        errore= math.inf\n",
    "        val='1'\n",
    "        for c in range(iterazioni):\n",
    "            valori=diffusione(tuple(k))\n",
    "            stimaerrore=fitness(valori)\n",
    "            if stimaerrore<errore:\n",
    "                errore=stimaerrore\n",
    "                val=valori \n",
    "                k=iniziale\n",
    "            iniziale = list(initializeParameters(minimo,massimo))\n",
    "        if param_only==True : \n",
    "            return k\n",
    "        else : \n",
    "            return (k,val,errore)\n",
    "\n",
    "def ils(iterazioni=10,minimo=0.00001,massimo=0.001):\n",
    "        iniziale = list(initializeParameters(minimo,massimo))\n",
    "        loc_search = localsearch(iniziale,iterazioni,minimo,massimo,param_only=False)\n",
    "        k=loc_search[0]\n",
    "        best_val = loc_search[1]\n",
    "        best_errore = loc_search[2]\n",
    "        #iter_errore = [best_errore]\n",
    "        #iter_best_errore = [best_errore]\n",
    "        val=0\n",
    "        for c in range(iterazioni):\n",
    "            val=best_val\n",
    "            nuova_iniziale = perturbazione(k)\n",
    "            loc_search = localsearch(nuova_iniziale,iterazioni,minimo,massimo,param_only=False)\n",
    "            val = loc_search[1]\n",
    "            if loc_search[2] < best_errore: # Se nuovo errore minore best si aggiorna il best\n",
    "                best_errore = loc_search[2]\n",
    "                best_val= loc_search[1]\n",
    "                k=loc_search[0]\n",
    "        # elif loc_search[0] == best_pers and loc_search[1] < best_num: # se uguale si tiene come best il numero più piccolo\n",
    "                # best_num =loc_search[1]\n",
    "            #iter_pers.append(loc_search[0])\n",
    "        # iter_best_pers.append(best_pers)\n",
    "    # results = {\"errore\":iter_pers, \"persistenza_migliore\":iter_best_pers, \"numero_migliore\":best_num,\"ripetizioni\":conta(best_num)}\n",
    "        return(k,best_val,best_errore)  \n",
    "\n",
    "\n"
   ]
  },
  {
   "cell_type": "code",
   "execution_count": 136,
   "metadata": {},
   "outputs": [
    {
     "output_type": "execute_result",
     "data": {
      "text/plain": "([0.3074680858551596,\n  0.4257528225177376,\n  0.5155031298604944,\n  0.09313069034531285,\n  0.32375067643925753,\n  0.6562371839352676,\n  0.22089946106960381,\n  0.3106935088691911,\n  0.4471615344759575],\n array([[ 6.03600000e+06,  2.21000000e+02,  7.00000000e+00,\n          1.00000000e+00,  8.00000000e+00,  1.00000000e+01],\n        [ 4.52251024e-29,  4.11624269e+05,  1.72410856e+06,\n          1.81772037e+05,  1.03951318e+06,  1.04039717e+04],\n        [-1.48256367e-28,  1.80627994e+05,  1.09590281e+06,\n          2.61536686e+05,  1.25630003e+06,  3.03338564e+04],\n        [-5.29819310e-28,  7.92627526e+04,  6.96593586e+05,\n          2.96538821e+05,  1.14676343e+06,  5.07085780e+04],\n        [ 2.74715899e-26,  3.47818952e+04,  4.42778886e+05,\n          3.11898376e+05,  9.35872989e+05,  6.82006157e+04],\n        [ 1.93126712e-26,  1.52629096e+04,  2.81445517e+05,\n          3.18638420e+05,  7.19434430e+05,  8.20344851e+04],\n        [-3.41253142e-27,  6.69763420e+03,  1.78896469e+05,\n          3.21596070e+05,  5.32990504e+05,  9.24696590e+04],\n        [ 3.02860513e-26,  2.93904013e+03,  1.13712760e+05,\n          3.22893939e+05,  3.85111900e+05,  1.00103793e+05],\n        [ 5.79038144e-24,  1.28970270e+03,  7.22797483e+04,\n          3.23463467e+05,  2.73288955e+05,  1.05570586e+05],\n        [ 1.29323961e-23,  5.65944312e+02,  4.59434986e+04,\n          3.23713386e+05,  1.91309826e+05,  1.09424055e+05],\n        [ 2.05324531e-23,  2.48346355e+02,  2.92032708e+04,\n          3.23823055e+05,  1.32499204e+05,  1.12107539e+05],\n        [ 4.95561626e-23,  1.08978765e+02,  1.85626052e+04,\n          3.23871180e+05,  9.09805444e+04,  1.13958329e+05],\n        [-2.92118404e-22,  4.78218060e+01,  1.17990315e+04,\n          3.23892298e+05,  6.20294076e+04,  1.15224813e+05],\n        [-4.05816207e-21,  2.09850527e+01,  7.49987097e+03,\n          3.23901565e+05,  4.20390277e+04,  1.16085806e+05],\n        [-3.12470471e-21,  9.20861161e+00,  4.76717641e+03,\n          3.23905631e+05,  2.83461090e+04,  1.16667898e+05],\n        [-1.50502148e-20,  4.04090135e+00,  3.03018159e+03,\n          3.23907415e+05,  1.90291695e+04,  1.17059564e+05],\n        [-2.56131486e-19,  1.77321885e+00,  1.92608783e+03,\n          3.23908199e+05,  1.27254476e+04,  1.17322012e+05],\n        [-5.10482299e-18,  7.78119761e-01,  1.22428779e+03,\n          3.23908542e+05,  8.48106679e+03,  1.17497236e+05],\n        [-1.37647695e-17,  3.41452714e-01,  7.78199510e+02,\n          3.23908693e+05,  5.63528403e+03,  1.17613848e+05],\n        [ 2.02078481e-15,  1.49835505e-01,  4.94650425e+02,\n          3.23908759e+05,  3.73427728e+03,  1.17691233e+05],\n        [ 1.60400917e-13,  6.57504878e-02,  3.14416857e+02,\n          3.23908788e+05,  2.46853611e+03,  1.17742453e+05],\n        [-8.54089820e-11,  2.88524969e-02,  1.99854192e+02,\n          3.23908801e+05,  1.62822582e+03,  1.17776277e+05],\n        [-1.32461635e-08,  1.26609973e-02,  1.27034214e+02,\n          3.23908806e+05,  1.07181168e+03,  1.17798566e+05],\n        [ 1.68901230e-08,  5.55587090e-03,  8.07473245e+01,\n          3.23908809e+05,  7.04249094e+02,  1.17813225e+05],\n        [ 2.08244388e-13,  2.43801328e-03,  5.13257820e+01,\n          3.23908810e+05,  4.61959655e+02,  1.17822850e+05],\n        [-4.12362176e-10,  1.06984380e-03,  3.26244362e+01,\n          3.23908810e+05,  3.02558877e+02,  1.17829158e+05],\n        [-7.39673815e-11,  4.69467932e-04,  2.07372165e+01,\n          3.23908811e+05,  1.97877037e+02,  1.17833287e+05],\n        [-1.35173527e-08,  2.06011326e-04,  1.31812900e+01,\n          3.23908811e+05,  1.29242829e+02,  1.17835986e+05],\n        [ 2.80830248e-09,  9.03986868e-05,  8.37848226e+00,\n          3.23908811e+05,  8.43109809e+01,  1.17837748e+05],\n        [ 7.27137792e-09,  3.96686250e-05,  5.32565203e+00,\n          3.23908811e+05,  5.49370532e+01,  1.17838897e+05],\n        [ 2.90030454e-10,  1.74077906e-05,  3.38516802e+00,\n          3.23908811e+05,  3.57588382e+01,  1.17839645e+05],\n        [ 3.57938156e-11,  7.63887767e-06,  2.15172944e+00,\n          3.23908811e+05,  2.32524309e+01,  1.17840131e+05],\n        [ 9.44077855e-12,  3.35207615e-06,  1.36771335e+00,\n          3.23908811e+05,  1.51059343e+01,  1.17840448e+05],\n        [ 4.05400095e-12,  1.47095040e-06,  8.69365716e-01,\n          3.23908811e+05,  9.80496382e+00,  1.17840653e+05],\n        [ 2.36916116e-12,  6.45479294e-07,  5.52598791e-01,\n          3.23908811e+05,  6.35896319e+00,  1.17840786e+05],\n        [ 1.68353467e-12,  2.83248029e-07,  3.51250822e-01,\n          3.23908811e+05,  4.12087429e+00,  1.17840873e+05],\n        [ 1.35512429e-12,  1.24294974e-07,  2.23267132e-01,\n          3.23908811e+05,  2.66854356e+00,  1.17840929e+05],\n        [ 1.18042371e-12,  5.45431973e-08,  1.41916283e-01,\n          3.23908811e+05,  1.72686614e+00,  1.17840965e+05],\n        [ 1.08127655e-12,  2.39348820e-08,  9.02068806e-02,\n          3.23908811e+05,  1.11675713e+00,  1.17840988e+05],\n        [ 1.02262944e-12,  1.05033752e-08,  5.73386024e-02,\n          3.23908811e+05,  7.21754453e-01,  1.17841004e+05],\n        [ 9.87015877e-13,  4.60937787e-09,  3.64463919e-02,\n          3.23908811e+05,  4.66191957e-01,  1.17841013e+05],\n        [ 9.65026138e-13,  2.02297849e-09,  2.31665828e-02,\n          3.23908811e+05,  3.00952208e-01,  1.17841020e+05],\n        [ 9.51304072e-13,  8.88024092e-10,  1.47254788e-02,\n          3.23908811e+05,  1.94177869e-01,  1.17841024e+05],\n        [ 9.42683456e-13,  3.89975800e-10,  9.36002200e-03,\n          3.23908811e+05,  1.25222543e-01,  1.17841026e+05],\n        [ 9.37244548e-13,  1.71423194e-10,  5.94955268e-03,\n          3.23908811e+05,  8.07153796e-02,  1.17841028e+05],\n        [ 9.33803716e-13,  7.55121088e-11,  3.78174102e-03,\n          3.23908811e+05,  5.20032874e-02,  1.17841029e+05],\n        [ 9.31623173e-13,  3.34210458e-11,  2.40380507e-03,\n          3.23908811e+05,  3.34899965e-02,  1.17841030e+05],\n        [ 9.30239792e-13,  1.49525249e-11,  1.52794143e-03,\n          3.23908811e+05,  2.15584596e-02,  1.17841030e+05],\n        [ 9.29361536e-13,  6.86254159e-12,  9.71212283e-04,\n          3.23908811e+05,  1.38722421e-02,  1.17841031e+05],\n        [ 9.28803716e-13,  3.31119256e-12,  6.17336028e-04,\n          3.23908811e+05,  8.92296947e-03,  1.17841031e+05],\n        [ 9.28449321e-13,  1.73221371e-12,  3.92400078e-04,\n          3.23908811e+05,  5.73737234e-03,  1.17841031e+05],\n        [ 9.28224126e-13,  1.03842878e-12,  2.49423028e-04,\n          3.23908811e+05,  3.68777309e-03,  1.17841031e+05],\n        [ 9.28081012e-13,  7.47511074e-13,  1.58541895e-04,\n          3.23908811e+05,  2.36956797e-03,  1.17841031e+05],\n        [ 9.27990056e-13,  6.32328672e-13,  1.00774686e-04,\n          3.23908811e+05,  1.52206706e-03,  1.17841031e+05],\n        [ 9.27932245e-13,  5.53980136e-13,  6.40557891e-05,\n          3.23908811e+05,  9.77379687e-04,  1.17841031e+05],\n        [ 9.27895501e-13,  5.36922482e-13,  4.07160349e-05,\n          3.23908811e+05,  6.27427462e-04,  1.17841031e+05],\n        [ 9.27872146e-13,  5.41101255e-13,  2.58804763e-05,\n          3.23908811e+05,  4.02660536e-04,  1.17841031e+05],\n        [ 9.27857301e-13,  5.09464603e-13,  1.64505135e-05,\n          3.23908811e+05,  2.58342134e-04,  1.17841031e+05],\n        [ 9.27847865e-13,  5.22032975e-13,  1.04565072e-05,\n          3.23908811e+05,  1.65705245e-04,  1.17841031e+05],\n        [ 9.27841867e-13,  5.20501130e-13,  6.64651198e-06,\n          3.23908811e+05,  1.06259151e-04,  1.17841031e+05],\n        [ 9.27838055e-13,  5.10882483e-13,  4.22470906e-06,\n          3.23908811e+05,  6.81218039e-05,  1.17841031e+05],\n        [ 9.27835631e-13,  4.93134408e-13,  2.68544350e-06,\n          3.23908811e+05,  4.36632972e-05,  1.17841031e+05],\n        [ 9.27834091e-13,  5.10052023e-13,  1.70699669e-06,\n          3.23908811e+05,  2.79799176e-05,  1.17841031e+05],\n        [ 9.27833112e-13,  5.02309153e-13,  1.08499666e-06,\n          3.23908811e+05,  1.79251412e-05,  1.17841031e+05]]),\n 57782261146.6072)"
     },
     "metadata": {},
     "execution_count": 136
    }
   ],
   "source": [
    "ils(10,0.000001,0.01)"
   ]
  },
  {
   "cell_type": "code",
   "execution_count": null,
   "metadata": {},
   "outputs": [],
   "source": []
  }
 ],
 "metadata": {
  "language_info": {
   "codemirror_mode": {
    "name": "ipython",
    "version": 3
   },
   "file_extension": ".py",
   "mimetype": "text/x-python",
   "name": "python",
   "nbconvert_exporter": "python",
   "pygments_lexer": "ipython3",
   "version": "3.7.4-final"
  },
  "orig_nbformat": 2,
  "kernelspec": {
   "name": "python3",
   "display_name": "Python 3"
  }
 },
 "nbformat": 4,
 "nbformat_minor": 2
}